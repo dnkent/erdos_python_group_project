{
 "cells": [
  {
   "cell_type": "code",
   "execution_count": 163,
   "metadata": {},
   "outputs": [],
   "source": [
    "import pandas as pd\n",
    "import numpy as np\n",
    "import seaborn as sns\n",
    "from sklearn.model_selection import train_test_split\n",
    "from sklearn import metrics\n",
    "from sklearn.ensemble import GradientBoostingRegressor\n"
   ]
  },
  {
   "cell_type": "code",
   "execution_count": 3,
   "metadata": {},
   "outputs": [],
   "source": [
    "nba = pd.read_csv(\"final_nba_data.csv\")"
   ]
  },
  {
   "cell_type": "code",
   "execution_count": 4,
   "metadata": {},
   "outputs": [],
   "source": [
    "nba = nba.dropna() # drop na rows"
   ]
  },
  {
   "cell_type": "code",
   "execution_count": 5,
   "metadata": {
    "scrolled": true
   },
   "outputs": [
    {
     "data": {
      "text/plain": [
       "array(['Unnamed: 0', 'SEASON_ID', 'TEAM_ID_x', 'TEAM_ABBREVIATION_x',\n",
       "       'TEAM_NAME_x', 'GAME_ID', 'GAME_DATE', 'MATCHUP_x', 'WL_x',\n",
       "       'PTS_x', 'DAYS_BTWN_GAMES_x', 'WINS_10GAMES_x', 'WINS_UPTOGAME_x',\n",
       "       'AVGPOINTS_2GAMES_x', 'AVGPOINTS_3GAMES_x', 'AVGPOINTS_4GAMES_x',\n",
       "       'TEAM_ID_y', 'TEAM_ABBREVIATION_y', 'TEAM_NAME_y', 'MATCHUP_y',\n",
       "       'WL_y', 'PTS_y', 'DAYS_BTWN_GAMES_y', 'WINS_10GAMES_y',\n",
       "       'WINS_UPTOGAME_y', 'AVGPOINTS_2GAMES_y', 'AVGPOINTS_3GAMES_y',\n",
       "       'AVGPOINTS_4GAMES_y', 'TOT_PTS', 'distance_miles', 'rivalry',\n",
       "       'pre_PTS', 'OFFICIAL_ID', 'FIRST_NAME', 'LAST_NAME', 'JERSEY_NUM'],\n",
       "      dtype=object)"
      ]
     },
     "execution_count": 5,
     "metadata": {},
     "output_type": "execute_result"
    }
   ],
   "source": [
    "nba.columns.values #new variables"
   ]
  },
  {
   "cell_type": "code",
   "execution_count": 6,
   "metadata": {},
   "outputs": [],
   "source": [
    "nba = nba[[\n",
    "    'SEASON_ID', 'TEAM_ABBREVIATION_x', 'GAME_DATE', 'DAYS_BTWN_GAMES_x', 'WINS_10GAMES_x', \n",
    "    'TEAM_ABBREVIATION_y', 'DAYS_BTWN_GAMES_y', 'WINS_10GAMES_y', 'TOT_PTS', \n",
    "    'distance_miles', 'rivalry', 'pre_PTS', 'WINS_10GAMES_x', 'WINS_UPTOGAME_x',\n",
    "       'AVGPOINTS_2GAMES_x', 'AVGPOINTS_3GAMES_x', 'AVGPOINTS_4GAMES_x', 'WINS_10GAMES_y',\n",
    "       'WINS_UPTOGAME_y','AVGPOINTS_2GAMES_y', 'AVGPOINTS_3GAMES_y',\n",
    "       'AVGPOINTS_4GAMES_y' # not including official ID for time being because doesn't do much\n",
    "]]"
   ]
  },
  {
   "cell_type": "code",
   "execution_count": 7,
   "metadata": {},
   "outputs": [
    {
     "data": {
      "text/html": [
       "<div>\n",
       "<style scoped>\n",
       "    .dataframe tbody tr th:only-of-type {\n",
       "        vertical-align: middle;\n",
       "    }\n",
       "\n",
       "    .dataframe tbody tr th {\n",
       "        vertical-align: top;\n",
       "    }\n",
       "\n",
       "    .dataframe thead th {\n",
       "        text-align: right;\n",
       "    }\n",
       "</style>\n",
       "<table border=\"1\" class=\"dataframe\">\n",
       "  <thead>\n",
       "    <tr style=\"text-align: right;\">\n",
       "      <th></th>\n",
       "      <th>SEASON_ID</th>\n",
       "      <th>TEAM_ABBREVIATION_x</th>\n",
       "      <th>GAME_DATE</th>\n",
       "      <th>DAYS_BTWN_GAMES_x</th>\n",
       "      <th>WINS_10GAMES_x</th>\n",
       "      <th>TEAM_ABBREVIATION_y</th>\n",
       "      <th>DAYS_BTWN_GAMES_y</th>\n",
       "      <th>WINS_10GAMES_y</th>\n",
       "      <th>TOT_PTS</th>\n",
       "      <th>distance_miles</th>\n",
       "      <th>...</th>\n",
       "      <th>WINS_10GAMES_x</th>\n",
       "      <th>WINS_UPTOGAME_x</th>\n",
       "      <th>AVGPOINTS_2GAMES_x</th>\n",
       "      <th>AVGPOINTS_3GAMES_x</th>\n",
       "      <th>AVGPOINTS_4GAMES_x</th>\n",
       "      <th>WINS_10GAMES_y</th>\n",
       "      <th>WINS_UPTOGAME_y</th>\n",
       "      <th>AVGPOINTS_2GAMES_y</th>\n",
       "      <th>AVGPOINTS_3GAMES_y</th>\n",
       "      <th>AVGPOINTS_4GAMES_y</th>\n",
       "    </tr>\n",
       "  </thead>\n",
       "  <tbody>\n",
       "    <tr>\n",
       "      <th>492</th>\n",
       "      <td>22016</td>\n",
       "      <td>SAS</td>\n",
       "      <td>2016-11-16</td>\n",
       "      <td>2.0</td>\n",
       "      <td>7.0</td>\n",
       "      <td>SAC</td>\n",
       "      <td>5.0</td>\n",
       "      <td>3.0</td>\n",
       "      <td>215</td>\n",
       "      <td>1740.22</td>\n",
       "      <td>...</td>\n",
       "      <td>7.0</td>\n",
       "      <td>8.0</td>\n",
       "      <td>100.0</td>\n",
       "      <td>98.666667</td>\n",
       "      <td>98.75</td>\n",
       "      <td>3.0</td>\n",
       "      <td>4.0</td>\n",
       "      <td>105.5</td>\n",
       "      <td>104.333333</td>\n",
       "      <td>102.25</td>\n",
       "    </tr>\n",
       "    <tr>\n",
       "      <th>493</th>\n",
       "      <td>22016</td>\n",
       "      <td>SAS</td>\n",
       "      <td>2016-11-16</td>\n",
       "      <td>2.0</td>\n",
       "      <td>7.0</td>\n",
       "      <td>SAC</td>\n",
       "      <td>5.0</td>\n",
       "      <td>3.0</td>\n",
       "      <td>215</td>\n",
       "      <td>1740.22</td>\n",
       "      <td>...</td>\n",
       "      <td>7.0</td>\n",
       "      <td>8.0</td>\n",
       "      <td>100.0</td>\n",
       "      <td>98.666667</td>\n",
       "      <td>98.75</td>\n",
       "      <td>3.0</td>\n",
       "      <td>4.0</td>\n",
       "      <td>105.5</td>\n",
       "      <td>104.333333</td>\n",
       "      <td>102.25</td>\n",
       "    </tr>\n",
       "    <tr>\n",
       "      <th>494</th>\n",
       "      <td>22016</td>\n",
       "      <td>SAS</td>\n",
       "      <td>2016-11-16</td>\n",
       "      <td>2.0</td>\n",
       "      <td>7.0</td>\n",
       "      <td>SAC</td>\n",
       "      <td>5.0</td>\n",
       "      <td>3.0</td>\n",
       "      <td>215</td>\n",
       "      <td>1740.22</td>\n",
       "      <td>...</td>\n",
       "      <td>7.0</td>\n",
       "      <td>8.0</td>\n",
       "      <td>100.0</td>\n",
       "      <td>98.666667</td>\n",
       "      <td>98.75</td>\n",
       "      <td>3.0</td>\n",
       "      <td>4.0</td>\n",
       "      <td>105.5</td>\n",
       "      <td>104.333333</td>\n",
       "      <td>102.25</td>\n",
       "    </tr>\n",
       "    <tr>\n",
       "      <th>564</th>\n",
       "      <td>22016</td>\n",
       "      <td>MIN</td>\n",
       "      <td>2016-11-19</td>\n",
       "      <td>2.0</td>\n",
       "      <td>4.0</td>\n",
       "      <td>MEM</td>\n",
       "      <td>1.0</td>\n",
       "      <td>6.0</td>\n",
       "      <td>164</td>\n",
       "      <td>830.78</td>\n",
       "      <td>...</td>\n",
       "      <td>4.0</td>\n",
       "      <td>4.0</td>\n",
       "      <td>109.0</td>\n",
       "      <td>114.333333</td>\n",
       "      <td>112.00</td>\n",
       "      <td>6.0</td>\n",
       "      <td>7.0</td>\n",
       "      <td>95.5</td>\n",
       "      <td>97.666667</td>\n",
       "      <td>97.25</td>\n",
       "    </tr>\n",
       "    <tr>\n",
       "      <th>565</th>\n",
       "      <td>22016</td>\n",
       "      <td>MIN</td>\n",
       "      <td>2016-11-19</td>\n",
       "      <td>2.0</td>\n",
       "      <td>4.0</td>\n",
       "      <td>MEM</td>\n",
       "      <td>1.0</td>\n",
       "      <td>6.0</td>\n",
       "      <td>164</td>\n",
       "      <td>830.78</td>\n",
       "      <td>...</td>\n",
       "      <td>4.0</td>\n",
       "      <td>4.0</td>\n",
       "      <td>109.0</td>\n",
       "      <td>114.333333</td>\n",
       "      <td>112.00</td>\n",
       "      <td>6.0</td>\n",
       "      <td>7.0</td>\n",
       "      <td>95.5</td>\n",
       "      <td>97.666667</td>\n",
       "      <td>97.25</td>\n",
       "    </tr>\n",
       "  </tbody>\n",
       "</table>\n",
       "<p>5 rows × 22 columns</p>\n",
       "</div>"
      ],
      "text/plain": [
       "     SEASON_ID TEAM_ABBREVIATION_x   GAME_DATE  DAYS_BTWN_GAMES_x  \\\n",
       "492      22016                 SAS  2016-11-16                2.0   \n",
       "493      22016                 SAS  2016-11-16                2.0   \n",
       "494      22016                 SAS  2016-11-16                2.0   \n",
       "564      22016                 MIN  2016-11-19                2.0   \n",
       "565      22016                 MIN  2016-11-19                2.0   \n",
       "\n",
       "     WINS_10GAMES_x TEAM_ABBREVIATION_y  DAYS_BTWN_GAMES_y  WINS_10GAMES_y  \\\n",
       "492             7.0                 SAC                5.0             3.0   \n",
       "493             7.0                 SAC                5.0             3.0   \n",
       "494             7.0                 SAC                5.0             3.0   \n",
       "564             4.0                 MEM                1.0             6.0   \n",
       "565             4.0                 MEM                1.0             6.0   \n",
       "\n",
       "     TOT_PTS  distance_miles  ...  WINS_10GAMES_x  WINS_UPTOGAME_x  \\\n",
       "492      215         1740.22  ...             7.0              8.0   \n",
       "493      215         1740.22  ...             7.0              8.0   \n",
       "494      215         1740.22  ...             7.0              8.0   \n",
       "564      164          830.78  ...             4.0              4.0   \n",
       "565      164          830.78  ...             4.0              4.0   \n",
       "\n",
       "     AVGPOINTS_2GAMES_x  AVGPOINTS_3GAMES_x  AVGPOINTS_4GAMES_x  \\\n",
       "492               100.0           98.666667               98.75   \n",
       "493               100.0           98.666667               98.75   \n",
       "494               100.0           98.666667               98.75   \n",
       "564               109.0          114.333333              112.00   \n",
       "565               109.0          114.333333              112.00   \n",
       "\n",
       "     WINS_10GAMES_y  WINS_UPTOGAME_y  AVGPOINTS_2GAMES_y  AVGPOINTS_3GAMES_y  \\\n",
       "492             3.0              4.0               105.5          104.333333   \n",
       "493             3.0              4.0               105.5          104.333333   \n",
       "494             3.0              4.0               105.5          104.333333   \n",
       "564             6.0              7.0                95.5           97.666667   \n",
       "565             6.0              7.0                95.5           97.666667   \n",
       "\n",
       "     AVGPOINTS_4GAMES_y  \n",
       "492              102.25  \n",
       "493              102.25  \n",
       "494              102.25  \n",
       "564               97.25  \n",
       "565               97.25  \n",
       "\n",
       "[5 rows x 22 columns]"
      ]
     },
     "execution_count": 7,
     "metadata": {},
     "output_type": "execute_result"
    }
   ],
   "source": [
    "nba.head()"
   ]
  },
  {
   "cell_type": "code",
   "execution_count": 8,
   "metadata": {},
   "outputs": [],
   "source": [
    "# Create month variable for training\n",
    "nba['GAME_DATE'] = pd.to_datetime(nba['GAME_DATE'])\n",
    "nba['MONTH'] = nba['GAME_DATE'].dt.month"
   ]
  },
  {
   "cell_type": "code",
   "execution_count": 9,
   "metadata": {
    "scrolled": false
   },
   "outputs": [
    {
     "data": {
      "text/html": [
       "<div>\n",
       "<style scoped>\n",
       "    .dataframe tbody tr th:only-of-type {\n",
       "        vertical-align: middle;\n",
       "    }\n",
       "\n",
       "    .dataframe tbody tr th {\n",
       "        vertical-align: top;\n",
       "    }\n",
       "\n",
       "    .dataframe thead th {\n",
       "        text-align: right;\n",
       "    }\n",
       "</style>\n",
       "<table border=\"1\" class=\"dataframe\">\n",
       "  <thead>\n",
       "    <tr style=\"text-align: right;\">\n",
       "      <th></th>\n",
       "      <th>SEASON_ID</th>\n",
       "      <th>TEAM_ABBREVIATION_x</th>\n",
       "      <th>GAME_DATE</th>\n",
       "      <th>DAYS_BTWN_GAMES_x</th>\n",
       "      <th>WINS_10GAMES_x</th>\n",
       "      <th>TEAM_ABBREVIATION_y</th>\n",
       "      <th>DAYS_BTWN_GAMES_y</th>\n",
       "      <th>WINS_10GAMES_y</th>\n",
       "      <th>TOT_PTS</th>\n",
       "      <th>distance_miles</th>\n",
       "      <th>...</th>\n",
       "      <th>WINS_UPTOGAME_x</th>\n",
       "      <th>AVGPOINTS_2GAMES_x</th>\n",
       "      <th>AVGPOINTS_3GAMES_x</th>\n",
       "      <th>AVGPOINTS_4GAMES_x</th>\n",
       "      <th>WINS_10GAMES_y</th>\n",
       "      <th>WINS_UPTOGAME_y</th>\n",
       "      <th>AVGPOINTS_2GAMES_y</th>\n",
       "      <th>AVGPOINTS_3GAMES_y</th>\n",
       "      <th>AVGPOINTS_4GAMES_y</th>\n",
       "      <th>MONTH</th>\n",
       "    </tr>\n",
       "  </thead>\n",
       "  <tbody>\n",
       "    <tr>\n",
       "      <th>492</th>\n",
       "      <td>22016</td>\n",
       "      <td>SAS</td>\n",
       "      <td>2016-11-16</td>\n",
       "      <td>2.0</td>\n",
       "      <td>7.0</td>\n",
       "      <td>SAC</td>\n",
       "      <td>5.0</td>\n",
       "      <td>3.0</td>\n",
       "      <td>215</td>\n",
       "      <td>1740.22</td>\n",
       "      <td>...</td>\n",
       "      <td>8.0</td>\n",
       "      <td>100.0</td>\n",
       "      <td>98.666667</td>\n",
       "      <td>98.75</td>\n",
       "      <td>3.0</td>\n",
       "      <td>4.0</td>\n",
       "      <td>105.5</td>\n",
       "      <td>104.333333</td>\n",
       "      <td>102.25</td>\n",
       "      <td>11</td>\n",
       "    </tr>\n",
       "    <tr>\n",
       "      <th>493</th>\n",
       "      <td>22016</td>\n",
       "      <td>SAS</td>\n",
       "      <td>2016-11-16</td>\n",
       "      <td>2.0</td>\n",
       "      <td>7.0</td>\n",
       "      <td>SAC</td>\n",
       "      <td>5.0</td>\n",
       "      <td>3.0</td>\n",
       "      <td>215</td>\n",
       "      <td>1740.22</td>\n",
       "      <td>...</td>\n",
       "      <td>8.0</td>\n",
       "      <td>100.0</td>\n",
       "      <td>98.666667</td>\n",
       "      <td>98.75</td>\n",
       "      <td>3.0</td>\n",
       "      <td>4.0</td>\n",
       "      <td>105.5</td>\n",
       "      <td>104.333333</td>\n",
       "      <td>102.25</td>\n",
       "      <td>11</td>\n",
       "    </tr>\n",
       "    <tr>\n",
       "      <th>494</th>\n",
       "      <td>22016</td>\n",
       "      <td>SAS</td>\n",
       "      <td>2016-11-16</td>\n",
       "      <td>2.0</td>\n",
       "      <td>7.0</td>\n",
       "      <td>SAC</td>\n",
       "      <td>5.0</td>\n",
       "      <td>3.0</td>\n",
       "      <td>215</td>\n",
       "      <td>1740.22</td>\n",
       "      <td>...</td>\n",
       "      <td>8.0</td>\n",
       "      <td>100.0</td>\n",
       "      <td>98.666667</td>\n",
       "      <td>98.75</td>\n",
       "      <td>3.0</td>\n",
       "      <td>4.0</td>\n",
       "      <td>105.5</td>\n",
       "      <td>104.333333</td>\n",
       "      <td>102.25</td>\n",
       "      <td>11</td>\n",
       "    </tr>\n",
       "    <tr>\n",
       "      <th>564</th>\n",
       "      <td>22016</td>\n",
       "      <td>MIN</td>\n",
       "      <td>2016-11-19</td>\n",
       "      <td>2.0</td>\n",
       "      <td>4.0</td>\n",
       "      <td>MEM</td>\n",
       "      <td>1.0</td>\n",
       "      <td>6.0</td>\n",
       "      <td>164</td>\n",
       "      <td>830.78</td>\n",
       "      <td>...</td>\n",
       "      <td>4.0</td>\n",
       "      <td>109.0</td>\n",
       "      <td>114.333333</td>\n",
       "      <td>112.00</td>\n",
       "      <td>6.0</td>\n",
       "      <td>7.0</td>\n",
       "      <td>95.5</td>\n",
       "      <td>97.666667</td>\n",
       "      <td>97.25</td>\n",
       "      <td>11</td>\n",
       "    </tr>\n",
       "    <tr>\n",
       "      <th>565</th>\n",
       "      <td>22016</td>\n",
       "      <td>MIN</td>\n",
       "      <td>2016-11-19</td>\n",
       "      <td>2.0</td>\n",
       "      <td>4.0</td>\n",
       "      <td>MEM</td>\n",
       "      <td>1.0</td>\n",
       "      <td>6.0</td>\n",
       "      <td>164</td>\n",
       "      <td>830.78</td>\n",
       "      <td>...</td>\n",
       "      <td>4.0</td>\n",
       "      <td>109.0</td>\n",
       "      <td>114.333333</td>\n",
       "      <td>112.00</td>\n",
       "      <td>6.0</td>\n",
       "      <td>7.0</td>\n",
       "      <td>95.5</td>\n",
       "      <td>97.666667</td>\n",
       "      <td>97.25</td>\n",
       "      <td>11</td>\n",
       "    </tr>\n",
       "  </tbody>\n",
       "</table>\n",
       "<p>5 rows × 23 columns</p>\n",
       "</div>"
      ],
      "text/plain": [
       "     SEASON_ID TEAM_ABBREVIATION_x  GAME_DATE  DAYS_BTWN_GAMES_x  \\\n",
       "492      22016                 SAS 2016-11-16                2.0   \n",
       "493      22016                 SAS 2016-11-16                2.0   \n",
       "494      22016                 SAS 2016-11-16                2.0   \n",
       "564      22016                 MIN 2016-11-19                2.0   \n",
       "565      22016                 MIN 2016-11-19                2.0   \n",
       "\n",
       "     WINS_10GAMES_x TEAM_ABBREVIATION_y  DAYS_BTWN_GAMES_y  WINS_10GAMES_y  \\\n",
       "492             7.0                 SAC                5.0             3.0   \n",
       "493             7.0                 SAC                5.0             3.0   \n",
       "494             7.0                 SAC                5.0             3.0   \n",
       "564             4.0                 MEM                1.0             6.0   \n",
       "565             4.0                 MEM                1.0             6.0   \n",
       "\n",
       "     TOT_PTS  distance_miles  ...  WINS_UPTOGAME_x  AVGPOINTS_2GAMES_x  \\\n",
       "492      215         1740.22  ...              8.0               100.0   \n",
       "493      215         1740.22  ...              8.0               100.0   \n",
       "494      215         1740.22  ...              8.0               100.0   \n",
       "564      164          830.78  ...              4.0               109.0   \n",
       "565      164          830.78  ...              4.0               109.0   \n",
       "\n",
       "     AVGPOINTS_3GAMES_x  AVGPOINTS_4GAMES_x  WINS_10GAMES_y  WINS_UPTOGAME_y  \\\n",
       "492           98.666667               98.75             3.0              4.0   \n",
       "493           98.666667               98.75             3.0              4.0   \n",
       "494           98.666667               98.75             3.0              4.0   \n",
       "564          114.333333              112.00             6.0              7.0   \n",
       "565          114.333333              112.00             6.0              7.0   \n",
       "\n",
       "     AVGPOINTS_2GAMES_y  AVGPOINTS_3GAMES_y  AVGPOINTS_4GAMES_y  MONTH  \n",
       "492               105.5          104.333333              102.25     11  \n",
       "493               105.5          104.333333              102.25     11  \n",
       "494               105.5          104.333333              102.25     11  \n",
       "564                95.5           97.666667               97.25     11  \n",
       "565                95.5           97.666667               97.25     11  \n",
       "\n",
       "[5 rows x 23 columns]"
      ]
     },
     "execution_count": 9,
     "metadata": {},
     "output_type": "execute_result"
    }
   ],
   "source": [
    "nba.head()"
   ]
  },
  {
   "cell_type": "code",
   "execution_count": 10,
   "metadata": {
    "scrolled": false
   },
   "outputs": [
    {
     "data": {
      "text/plain": [
       "array(['SEASON_ID', 'TEAM_ABBREVIATION_x', 'GAME_DATE',\n",
       "       'DAYS_BTWN_GAMES_x', 'WINS_10GAMES_x', 'TEAM_ABBREVIATION_y',\n",
       "       'DAYS_BTWN_GAMES_y', 'WINS_10GAMES_y', 'TOT_PTS', 'distance_miles',\n",
       "       'rivalry', 'pre_PTS', 'WINS_10GAMES_x', 'WINS_UPTOGAME_x',\n",
       "       'AVGPOINTS_2GAMES_x', 'AVGPOINTS_3GAMES_x', 'AVGPOINTS_4GAMES_x',\n",
       "       'WINS_10GAMES_y', 'WINS_UPTOGAME_y', 'AVGPOINTS_2GAMES_y',\n",
       "       'AVGPOINTS_3GAMES_y', 'AVGPOINTS_4GAMES_y', 'MONTH'], dtype=object)"
      ]
     },
     "execution_count": 10,
     "metadata": {},
     "output_type": "execute_result"
    }
   ],
   "source": [
    "nba.columns.values"
   ]
  },
  {
   "cell_type": "code",
   "execution_count": 11,
   "metadata": {},
   "outputs": [
    {
     "data": {
      "text/plain": [
       "(8462, 23)"
      ]
     },
     "execution_count": 11,
     "metadata": {},
     "output_type": "execute_result"
    }
   ],
   "source": [
    "nba.shape"
   ]
  },
  {
   "cell_type": "code",
   "execution_count": 12,
   "metadata": {},
   "outputs": [
    {
     "data": {
      "text/html": [
       "<div>\n",
       "<style scoped>\n",
       "    .dataframe tbody tr th:only-of-type {\n",
       "        vertical-align: middle;\n",
       "    }\n",
       "\n",
       "    .dataframe tbody tr th {\n",
       "        vertical-align: top;\n",
       "    }\n",
       "\n",
       "    .dataframe thead th {\n",
       "        text-align: right;\n",
       "    }\n",
       "</style>\n",
       "<table border=\"1\" class=\"dataframe\">\n",
       "  <thead>\n",
       "    <tr style=\"text-align: right;\">\n",
       "      <th></th>\n",
       "      <th>SEASON_ID</th>\n",
       "      <th>MONTH</th>\n",
       "      <th>TEAM_ABBREVIATION_x_ATL</th>\n",
       "      <th>TEAM_ABBREVIATION_x_BKN</th>\n",
       "      <th>TEAM_ABBREVIATION_x_BOS</th>\n",
       "      <th>TEAM_ABBREVIATION_x_CHA</th>\n",
       "      <th>TEAM_ABBREVIATION_x_CHI</th>\n",
       "      <th>TEAM_ABBREVIATION_x_CLE</th>\n",
       "      <th>TEAM_ABBREVIATION_x_DAL</th>\n",
       "      <th>TEAM_ABBREVIATION_x_DEN</th>\n",
       "      <th>...</th>\n",
       "      <th>TEAM_ABBREVIATION_y_OKC</th>\n",
       "      <th>TEAM_ABBREVIATION_y_ORL</th>\n",
       "      <th>TEAM_ABBREVIATION_y_PHI</th>\n",
       "      <th>TEAM_ABBREVIATION_y_PHX</th>\n",
       "      <th>TEAM_ABBREVIATION_y_POR</th>\n",
       "      <th>TEAM_ABBREVIATION_y_SAC</th>\n",
       "      <th>TEAM_ABBREVIATION_y_SAS</th>\n",
       "      <th>TEAM_ABBREVIATION_y_TOR</th>\n",
       "      <th>TEAM_ABBREVIATION_y_UTA</th>\n",
       "      <th>TEAM_ABBREVIATION_y_WAS</th>\n",
       "    </tr>\n",
       "  </thead>\n",
       "  <tbody>\n",
       "    <tr>\n",
       "      <th>492</th>\n",
       "      <td>22016</td>\n",
       "      <td>11</td>\n",
       "      <td>0</td>\n",
       "      <td>0</td>\n",
       "      <td>0</td>\n",
       "      <td>0</td>\n",
       "      <td>0</td>\n",
       "      <td>0</td>\n",
       "      <td>0</td>\n",
       "      <td>0</td>\n",
       "      <td>...</td>\n",
       "      <td>0</td>\n",
       "      <td>0</td>\n",
       "      <td>0</td>\n",
       "      <td>0</td>\n",
       "      <td>0</td>\n",
       "      <td>1</td>\n",
       "      <td>0</td>\n",
       "      <td>0</td>\n",
       "      <td>0</td>\n",
       "      <td>0</td>\n",
       "    </tr>\n",
       "    <tr>\n",
       "      <th>493</th>\n",
       "      <td>22016</td>\n",
       "      <td>11</td>\n",
       "      <td>0</td>\n",
       "      <td>0</td>\n",
       "      <td>0</td>\n",
       "      <td>0</td>\n",
       "      <td>0</td>\n",
       "      <td>0</td>\n",
       "      <td>0</td>\n",
       "      <td>0</td>\n",
       "      <td>...</td>\n",
       "      <td>0</td>\n",
       "      <td>0</td>\n",
       "      <td>0</td>\n",
       "      <td>0</td>\n",
       "      <td>0</td>\n",
       "      <td>1</td>\n",
       "      <td>0</td>\n",
       "      <td>0</td>\n",
       "      <td>0</td>\n",
       "      <td>0</td>\n",
       "    </tr>\n",
       "    <tr>\n",
       "      <th>494</th>\n",
       "      <td>22016</td>\n",
       "      <td>11</td>\n",
       "      <td>0</td>\n",
       "      <td>0</td>\n",
       "      <td>0</td>\n",
       "      <td>0</td>\n",
       "      <td>0</td>\n",
       "      <td>0</td>\n",
       "      <td>0</td>\n",
       "      <td>0</td>\n",
       "      <td>...</td>\n",
       "      <td>0</td>\n",
       "      <td>0</td>\n",
       "      <td>0</td>\n",
       "      <td>0</td>\n",
       "      <td>0</td>\n",
       "      <td>1</td>\n",
       "      <td>0</td>\n",
       "      <td>0</td>\n",
       "      <td>0</td>\n",
       "      <td>0</td>\n",
       "    </tr>\n",
       "    <tr>\n",
       "      <th>564</th>\n",
       "      <td>22016</td>\n",
       "      <td>11</td>\n",
       "      <td>0</td>\n",
       "      <td>0</td>\n",
       "      <td>0</td>\n",
       "      <td>0</td>\n",
       "      <td>0</td>\n",
       "      <td>0</td>\n",
       "      <td>0</td>\n",
       "      <td>0</td>\n",
       "      <td>...</td>\n",
       "      <td>0</td>\n",
       "      <td>0</td>\n",
       "      <td>0</td>\n",
       "      <td>0</td>\n",
       "      <td>0</td>\n",
       "      <td>0</td>\n",
       "      <td>0</td>\n",
       "      <td>0</td>\n",
       "      <td>0</td>\n",
       "      <td>0</td>\n",
       "    </tr>\n",
       "    <tr>\n",
       "      <th>565</th>\n",
       "      <td>22016</td>\n",
       "      <td>11</td>\n",
       "      <td>0</td>\n",
       "      <td>0</td>\n",
       "      <td>0</td>\n",
       "      <td>0</td>\n",
       "      <td>0</td>\n",
       "      <td>0</td>\n",
       "      <td>0</td>\n",
       "      <td>0</td>\n",
       "      <td>...</td>\n",
       "      <td>0</td>\n",
       "      <td>0</td>\n",
       "      <td>0</td>\n",
       "      <td>0</td>\n",
       "      <td>0</td>\n",
       "      <td>0</td>\n",
       "      <td>0</td>\n",
       "      <td>0</td>\n",
       "      <td>0</td>\n",
       "      <td>0</td>\n",
       "    </tr>\n",
       "  </tbody>\n",
       "</table>\n",
       "<p>5 rows × 62 columns</p>\n",
       "</div>"
      ],
      "text/plain": [
       "     SEASON_ID  MONTH  TEAM_ABBREVIATION_x_ATL  TEAM_ABBREVIATION_x_BKN  \\\n",
       "492      22016     11                        0                        0   \n",
       "493      22016     11                        0                        0   \n",
       "494      22016     11                        0                        0   \n",
       "564      22016     11                        0                        0   \n",
       "565      22016     11                        0                        0   \n",
       "\n",
       "     TEAM_ABBREVIATION_x_BOS  TEAM_ABBREVIATION_x_CHA  \\\n",
       "492                        0                        0   \n",
       "493                        0                        0   \n",
       "494                        0                        0   \n",
       "564                        0                        0   \n",
       "565                        0                        0   \n",
       "\n",
       "     TEAM_ABBREVIATION_x_CHI  TEAM_ABBREVIATION_x_CLE  \\\n",
       "492                        0                        0   \n",
       "493                        0                        0   \n",
       "494                        0                        0   \n",
       "564                        0                        0   \n",
       "565                        0                        0   \n",
       "\n",
       "     TEAM_ABBREVIATION_x_DAL  TEAM_ABBREVIATION_x_DEN  ...  \\\n",
       "492                        0                        0  ...   \n",
       "493                        0                        0  ...   \n",
       "494                        0                        0  ...   \n",
       "564                        0                        0  ...   \n",
       "565                        0                        0  ...   \n",
       "\n",
       "     TEAM_ABBREVIATION_y_OKC  TEAM_ABBREVIATION_y_ORL  \\\n",
       "492                        0                        0   \n",
       "493                        0                        0   \n",
       "494                        0                        0   \n",
       "564                        0                        0   \n",
       "565                        0                        0   \n",
       "\n",
       "     TEAM_ABBREVIATION_y_PHI  TEAM_ABBREVIATION_y_PHX  \\\n",
       "492                        0                        0   \n",
       "493                        0                        0   \n",
       "494                        0                        0   \n",
       "564                        0                        0   \n",
       "565                        0                        0   \n",
       "\n",
       "     TEAM_ABBREVIATION_y_POR  TEAM_ABBREVIATION_y_SAC  \\\n",
       "492                        0                        1   \n",
       "493                        0                        1   \n",
       "494                        0                        1   \n",
       "564                        0                        0   \n",
       "565                        0                        0   \n",
       "\n",
       "     TEAM_ABBREVIATION_y_SAS  TEAM_ABBREVIATION_y_TOR  \\\n",
       "492                        0                        0   \n",
       "493                        0                        0   \n",
       "494                        0                        0   \n",
       "564                        0                        0   \n",
       "565                        0                        0   \n",
       "\n",
       "     TEAM_ABBREVIATION_y_UTA  TEAM_ABBREVIATION_y_WAS  \n",
       "492                        0                        0  \n",
       "493                        0                        0  \n",
       "494                        0                        0  \n",
       "564                        0                        0  \n",
       "565                        0                        0  \n",
       "\n",
       "[5 rows x 62 columns]"
      ]
     },
     "execution_count": 12,
     "metadata": {},
     "output_type": "execute_result"
    }
   ],
   "source": [
    "categorical_vars = pd.get_dummies(nba[[\n",
    "    'SEASON_ID', 'TEAM_ABBREVIATION_x', 'TEAM_ABBREVIATION_y', 'MONTH'\n",
    "]])\n",
    "\n",
    "categorical_vars.head() # looks good"
   ]
  },
  {
   "cell_type": "code",
   "execution_count": 13,
   "metadata": {},
   "outputs": [],
   "source": [
    "# add to df \n",
    "nba_trans = pd.concat([\n",
    "    nba[[\n",
    "        'GAME_DATE', 'DAYS_BTWN_GAMES_x', 'WINS_10GAMES_x', \n",
    "        'WINS_10GAMES_y','DAYS_BTWN_GAMES_y', 'WINS_10GAMES_y',\n",
    "        'TOT_PTS', 'distance_miles', 'rivalry', 'pre_PTS',\n",
    "    ]], categorical_vars], axis=1)\n"
   ]
  },
  {
   "cell_type": "code",
   "execution_count": 14,
   "metadata": {
    "scrolled": false
   },
   "outputs": [
    {
     "data": {
      "text/html": [
       "<div>\n",
       "<style scoped>\n",
       "    .dataframe tbody tr th:only-of-type {\n",
       "        vertical-align: middle;\n",
       "    }\n",
       "\n",
       "    .dataframe tbody tr th {\n",
       "        vertical-align: top;\n",
       "    }\n",
       "\n",
       "    .dataframe thead th {\n",
       "        text-align: right;\n",
       "    }\n",
       "</style>\n",
       "<table border=\"1\" class=\"dataframe\">\n",
       "  <thead>\n",
       "    <tr style=\"text-align: right;\">\n",
       "      <th></th>\n",
       "      <th>GAME_DATE</th>\n",
       "      <th>DAYS_BTWN_GAMES_x</th>\n",
       "      <th>WINS_10GAMES_x</th>\n",
       "      <th>WINS_10GAMES_x</th>\n",
       "      <th>WINS_10GAMES_y</th>\n",
       "      <th>WINS_10GAMES_y</th>\n",
       "      <th>DAYS_BTWN_GAMES_y</th>\n",
       "      <th>WINS_10GAMES_y</th>\n",
       "      <th>WINS_10GAMES_y</th>\n",
       "      <th>TOT_PTS</th>\n",
       "      <th>...</th>\n",
       "      <th>TEAM_ABBREVIATION_y_OKC</th>\n",
       "      <th>TEAM_ABBREVIATION_y_ORL</th>\n",
       "      <th>TEAM_ABBREVIATION_y_PHI</th>\n",
       "      <th>TEAM_ABBREVIATION_y_PHX</th>\n",
       "      <th>TEAM_ABBREVIATION_y_POR</th>\n",
       "      <th>TEAM_ABBREVIATION_y_SAC</th>\n",
       "      <th>TEAM_ABBREVIATION_y_SAS</th>\n",
       "      <th>TEAM_ABBREVIATION_y_TOR</th>\n",
       "      <th>TEAM_ABBREVIATION_y_UTA</th>\n",
       "      <th>TEAM_ABBREVIATION_y_WAS</th>\n",
       "    </tr>\n",
       "  </thead>\n",
       "  <tbody>\n",
       "    <tr>\n",
       "      <th>492</th>\n",
       "      <td>2016-11-16</td>\n",
       "      <td>2.0</td>\n",
       "      <td>7.0</td>\n",
       "      <td>7.0</td>\n",
       "      <td>3.0</td>\n",
       "      <td>3.0</td>\n",
       "      <td>5.0</td>\n",
       "      <td>3.0</td>\n",
       "      <td>3.0</td>\n",
       "      <td>215</td>\n",
       "      <td>...</td>\n",
       "      <td>0</td>\n",
       "      <td>0</td>\n",
       "      <td>0</td>\n",
       "      <td>0</td>\n",
       "      <td>0</td>\n",
       "      <td>1</td>\n",
       "      <td>0</td>\n",
       "      <td>0</td>\n",
       "      <td>0</td>\n",
       "      <td>0</td>\n",
       "    </tr>\n",
       "    <tr>\n",
       "      <th>493</th>\n",
       "      <td>2016-11-16</td>\n",
       "      <td>2.0</td>\n",
       "      <td>7.0</td>\n",
       "      <td>7.0</td>\n",
       "      <td>3.0</td>\n",
       "      <td>3.0</td>\n",
       "      <td>5.0</td>\n",
       "      <td>3.0</td>\n",
       "      <td>3.0</td>\n",
       "      <td>215</td>\n",
       "      <td>...</td>\n",
       "      <td>0</td>\n",
       "      <td>0</td>\n",
       "      <td>0</td>\n",
       "      <td>0</td>\n",
       "      <td>0</td>\n",
       "      <td>1</td>\n",
       "      <td>0</td>\n",
       "      <td>0</td>\n",
       "      <td>0</td>\n",
       "      <td>0</td>\n",
       "    </tr>\n",
       "    <tr>\n",
       "      <th>494</th>\n",
       "      <td>2016-11-16</td>\n",
       "      <td>2.0</td>\n",
       "      <td>7.0</td>\n",
       "      <td>7.0</td>\n",
       "      <td>3.0</td>\n",
       "      <td>3.0</td>\n",
       "      <td>5.0</td>\n",
       "      <td>3.0</td>\n",
       "      <td>3.0</td>\n",
       "      <td>215</td>\n",
       "      <td>...</td>\n",
       "      <td>0</td>\n",
       "      <td>0</td>\n",
       "      <td>0</td>\n",
       "      <td>0</td>\n",
       "      <td>0</td>\n",
       "      <td>1</td>\n",
       "      <td>0</td>\n",
       "      <td>0</td>\n",
       "      <td>0</td>\n",
       "      <td>0</td>\n",
       "    </tr>\n",
       "    <tr>\n",
       "      <th>564</th>\n",
       "      <td>2016-11-19</td>\n",
       "      <td>2.0</td>\n",
       "      <td>4.0</td>\n",
       "      <td>4.0</td>\n",
       "      <td>6.0</td>\n",
       "      <td>6.0</td>\n",
       "      <td>1.0</td>\n",
       "      <td>6.0</td>\n",
       "      <td>6.0</td>\n",
       "      <td>164</td>\n",
       "      <td>...</td>\n",
       "      <td>0</td>\n",
       "      <td>0</td>\n",
       "      <td>0</td>\n",
       "      <td>0</td>\n",
       "      <td>0</td>\n",
       "      <td>0</td>\n",
       "      <td>0</td>\n",
       "      <td>0</td>\n",
       "      <td>0</td>\n",
       "      <td>0</td>\n",
       "    </tr>\n",
       "    <tr>\n",
       "      <th>565</th>\n",
       "      <td>2016-11-19</td>\n",
       "      <td>2.0</td>\n",
       "      <td>4.0</td>\n",
       "      <td>4.0</td>\n",
       "      <td>6.0</td>\n",
       "      <td>6.0</td>\n",
       "      <td>1.0</td>\n",
       "      <td>6.0</td>\n",
       "      <td>6.0</td>\n",
       "      <td>164</td>\n",
       "      <td>...</td>\n",
       "      <td>0</td>\n",
       "      <td>0</td>\n",
       "      <td>0</td>\n",
       "      <td>0</td>\n",
       "      <td>0</td>\n",
       "      <td>0</td>\n",
       "      <td>0</td>\n",
       "      <td>0</td>\n",
       "      <td>0</td>\n",
       "      <td>0</td>\n",
       "    </tr>\n",
       "  </tbody>\n",
       "</table>\n",
       "<p>5 rows × 75 columns</p>\n",
       "</div>"
      ],
      "text/plain": [
       "     GAME_DATE  DAYS_BTWN_GAMES_x  WINS_10GAMES_x  WINS_10GAMES_x  \\\n",
       "492 2016-11-16                2.0             7.0             7.0   \n",
       "493 2016-11-16                2.0             7.0             7.0   \n",
       "494 2016-11-16                2.0             7.0             7.0   \n",
       "564 2016-11-19                2.0             4.0             4.0   \n",
       "565 2016-11-19                2.0             4.0             4.0   \n",
       "\n",
       "     WINS_10GAMES_y  WINS_10GAMES_y  DAYS_BTWN_GAMES_y  WINS_10GAMES_y  \\\n",
       "492             3.0             3.0                5.0             3.0   \n",
       "493             3.0             3.0                5.0             3.0   \n",
       "494             3.0             3.0                5.0             3.0   \n",
       "564             6.0             6.0                1.0             6.0   \n",
       "565             6.0             6.0                1.0             6.0   \n",
       "\n",
       "     WINS_10GAMES_y  TOT_PTS  ...  TEAM_ABBREVIATION_y_OKC  \\\n",
       "492             3.0      215  ...                        0   \n",
       "493             3.0      215  ...                        0   \n",
       "494             3.0      215  ...                        0   \n",
       "564             6.0      164  ...                        0   \n",
       "565             6.0      164  ...                        0   \n",
       "\n",
       "     TEAM_ABBREVIATION_y_ORL  TEAM_ABBREVIATION_y_PHI  \\\n",
       "492                        0                        0   \n",
       "493                        0                        0   \n",
       "494                        0                        0   \n",
       "564                        0                        0   \n",
       "565                        0                        0   \n",
       "\n",
       "     TEAM_ABBREVIATION_y_PHX  TEAM_ABBREVIATION_y_POR  \\\n",
       "492                        0                        0   \n",
       "493                        0                        0   \n",
       "494                        0                        0   \n",
       "564                        0                        0   \n",
       "565                        0                        0   \n",
       "\n",
       "     TEAM_ABBREVIATION_y_SAC  TEAM_ABBREVIATION_y_SAS  \\\n",
       "492                        1                        0   \n",
       "493                        1                        0   \n",
       "494                        1                        0   \n",
       "564                        0                        0   \n",
       "565                        0                        0   \n",
       "\n",
       "     TEAM_ABBREVIATION_y_TOR  TEAM_ABBREVIATION_y_UTA  TEAM_ABBREVIATION_y_WAS  \n",
       "492                        0                        0                        0  \n",
       "493                        0                        0                        0  \n",
       "494                        0                        0                        0  \n",
       "564                        0                        0                        0  \n",
       "565                        0                        0                        0  \n",
       "\n",
       "[5 rows x 75 columns]"
      ]
     },
     "execution_count": 14,
     "metadata": {},
     "output_type": "execute_result"
    }
   ],
   "source": [
    "nba_trans.head()"
   ]
  },
  {
   "cell_type": "code",
   "execution_count": 107,
   "metadata": {},
   "outputs": [
    {
     "data": {
      "text/plain": [
       "(8462, 75)"
      ]
     },
     "execution_count": 107,
     "metadata": {},
     "output_type": "execute_result"
    }
   ],
   "source": [
    "nba_trans.shape"
   ]
  },
  {
   "cell_type": "code",
   "execution_count": 15,
   "metadata": {},
   "outputs": [],
   "source": [
    "X = nba_trans.drop(['TOT_PTS', 'GAME_DATE'], axis = 1)"
   ]
  },
  {
   "cell_type": "code",
   "execution_count": 16,
   "metadata": {},
   "outputs": [],
   "source": [
    "y = nba_trans['TOT_PTS']"
   ]
  },
  {
   "cell_type": "markdown",
   "metadata": {},
   "source": [
    "## 1. Random Test/Training "
   ]
  },
  {
   "cell_type": "code",
   "execution_count": 523,
   "metadata": {},
   "outputs": [],
   "source": [
    "#X_train, X_test, y_train, y_test = train_test_split(X, y, random_state = 614)"
   ]
  },
  {
   "cell_type": "code",
   "execution_count": 17,
   "metadata": {},
   "outputs": [],
   "source": [
    "train = nba_trans[nba_trans.GAME_DATE.dt.year.isin([2017,2018])]\n",
    "test = nba_trans[nba_trans.GAME_DATE.dt.year == 2019]"
   ]
  },
  {
   "cell_type": "code",
   "execution_count": 18,
   "metadata": {},
   "outputs": [],
   "source": [
    "X_train = train.drop(['TOT_PTS', 'GAME_DATE'], axis = 1)\n",
    "X_test = test.drop(['TOT_PTS', 'GAME_DATE'], axis = 1)\n",
    "y_train = train['TOT_PTS']\n",
    "y_test = test['TOT_PTS']"
   ]
  },
  {
   "cell_type": "code",
   "execution_count": 19,
   "metadata": {},
   "outputs": [
    {
     "data": {
      "text/html": [
       "<div>\n",
       "<style scoped>\n",
       "    .dataframe tbody tr th:only-of-type {\n",
       "        vertical-align: middle;\n",
       "    }\n",
       "\n",
       "    .dataframe tbody tr th {\n",
       "        vertical-align: top;\n",
       "    }\n",
       "\n",
       "    .dataframe thead th {\n",
       "        text-align: right;\n",
       "    }\n",
       "</style>\n",
       "<table border=\"1\" class=\"dataframe\">\n",
       "  <thead>\n",
       "    <tr style=\"text-align: right;\">\n",
       "      <th></th>\n",
       "      <th>DAYS_BTWN_GAMES_x</th>\n",
       "      <th>WINS_10GAMES_x</th>\n",
       "      <th>WINS_10GAMES_x</th>\n",
       "      <th>WINS_10GAMES_y</th>\n",
       "      <th>WINS_10GAMES_y</th>\n",
       "      <th>DAYS_BTWN_GAMES_y</th>\n",
       "      <th>WINS_10GAMES_y</th>\n",
       "      <th>WINS_10GAMES_y</th>\n",
       "      <th>distance_miles</th>\n",
       "      <th>rivalry</th>\n",
       "      <th>...</th>\n",
       "      <th>TEAM_ABBREVIATION_y_OKC</th>\n",
       "      <th>TEAM_ABBREVIATION_y_ORL</th>\n",
       "      <th>TEAM_ABBREVIATION_y_PHI</th>\n",
       "      <th>TEAM_ABBREVIATION_y_PHX</th>\n",
       "      <th>TEAM_ABBREVIATION_y_POR</th>\n",
       "      <th>TEAM_ABBREVIATION_y_SAC</th>\n",
       "      <th>TEAM_ABBREVIATION_y_SAS</th>\n",
       "      <th>TEAM_ABBREVIATION_y_TOR</th>\n",
       "      <th>TEAM_ABBREVIATION_y_UTA</th>\n",
       "      <th>TEAM_ABBREVIATION_y_WAS</th>\n",
       "    </tr>\n",
       "  </thead>\n",
       "  <tbody>\n",
       "    <tr>\n",
       "      <th>DAYS_BTWN_GAMES_x</th>\n",
       "      <td>1.000000</td>\n",
       "      <td>0.058950</td>\n",
       "      <td>0.058950</td>\n",
       "      <td>0.113343</td>\n",
       "      <td>0.113343</td>\n",
       "      <td>0.504432</td>\n",
       "      <td>0.113343</td>\n",
       "      <td>0.113343</td>\n",
       "      <td>-0.008135</td>\n",
       "      <td>0.003021</td>\n",
       "      <td>...</td>\n",
       "      <td>0.025438</td>\n",
       "      <td>-0.001756</td>\n",
       "      <td>-0.004091</td>\n",
       "      <td>-0.029725</td>\n",
       "      <td>0.005976</td>\n",
       "      <td>-0.014441</td>\n",
       "      <td>0.003426</td>\n",
       "      <td>0.029815</td>\n",
       "      <td>0.023046</td>\n",
       "      <td>-0.061289</td>\n",
       "    </tr>\n",
       "    <tr>\n",
       "      <th>WINS_10GAMES_x</th>\n",
       "      <td>0.058950</td>\n",
       "      <td>1.000000</td>\n",
       "      <td>1.000000</td>\n",
       "      <td>0.203759</td>\n",
       "      <td>0.203759</td>\n",
       "      <td>0.081119</td>\n",
       "      <td>0.203759</td>\n",
       "      <td>0.203759</td>\n",
       "      <td>0.021155</td>\n",
       "      <td>-0.027957</td>\n",
       "      <td>...</td>\n",
       "      <td>-0.013633</td>\n",
       "      <td>-0.029616</td>\n",
       "      <td>-0.003052</td>\n",
       "      <td>0.010828</td>\n",
       "      <td>0.024920</td>\n",
       "      <td>0.003202</td>\n",
       "      <td>0.010828</td>\n",
       "      <td>-0.009536</td>\n",
       "      <td>-0.003113</td>\n",
       "      <td>-0.001145</td>\n",
       "    </tr>\n",
       "    <tr>\n",
       "      <th>WINS_10GAMES_x</th>\n",
       "      <td>0.058950</td>\n",
       "      <td>1.000000</td>\n",
       "      <td>1.000000</td>\n",
       "      <td>0.203759</td>\n",
       "      <td>0.203759</td>\n",
       "      <td>0.081119</td>\n",
       "      <td>0.203759</td>\n",
       "      <td>0.203759</td>\n",
       "      <td>0.021155</td>\n",
       "      <td>-0.027957</td>\n",
       "      <td>...</td>\n",
       "      <td>-0.013633</td>\n",
       "      <td>-0.029616</td>\n",
       "      <td>-0.003052</td>\n",
       "      <td>0.010828</td>\n",
       "      <td>0.024920</td>\n",
       "      <td>0.003202</td>\n",
       "      <td>0.010828</td>\n",
       "      <td>-0.009536</td>\n",
       "      <td>-0.003113</td>\n",
       "      <td>-0.001145</td>\n",
       "    </tr>\n",
       "    <tr>\n",
       "      <th>WINS_10GAMES_y</th>\n",
       "      <td>0.113343</td>\n",
       "      <td>0.203759</td>\n",
       "      <td>0.203759</td>\n",
       "      <td>1.000000</td>\n",
       "      <td>1.000000</td>\n",
       "      <td>0.065287</td>\n",
       "      <td>1.000000</td>\n",
       "      <td>1.000000</td>\n",
       "      <td>0.051236</td>\n",
       "      <td>-0.033800</td>\n",
       "      <td>...</td>\n",
       "      <td>0.060342</td>\n",
       "      <td>-0.129410</td>\n",
       "      <td>0.069614</td>\n",
       "      <td>-0.194412</td>\n",
       "      <td>0.080908</td>\n",
       "      <td>-0.074135</td>\n",
       "      <td>0.060430</td>\n",
       "      <td>0.140501</td>\n",
       "      <td>0.048386</td>\n",
       "      <td>0.018565</td>\n",
       "    </tr>\n",
       "    <tr>\n",
       "      <th>WINS_10GAMES_y</th>\n",
       "      <td>0.113343</td>\n",
       "      <td>0.203759</td>\n",
       "      <td>0.203759</td>\n",
       "      <td>1.000000</td>\n",
       "      <td>1.000000</td>\n",
       "      <td>0.065287</td>\n",
       "      <td>1.000000</td>\n",
       "      <td>1.000000</td>\n",
       "      <td>0.051236</td>\n",
       "      <td>-0.033800</td>\n",
       "      <td>...</td>\n",
       "      <td>0.060342</td>\n",
       "      <td>-0.129410</td>\n",
       "      <td>0.069614</td>\n",
       "      <td>-0.194412</td>\n",
       "      <td>0.080908</td>\n",
       "      <td>-0.074135</td>\n",
       "      <td>0.060430</td>\n",
       "      <td>0.140501</td>\n",
       "      <td>0.048386</td>\n",
       "      <td>0.018565</td>\n",
       "    </tr>\n",
       "    <tr>\n",
       "      <th>...</th>\n",
       "      <td>...</td>\n",
       "      <td>...</td>\n",
       "      <td>...</td>\n",
       "      <td>...</td>\n",
       "      <td>...</td>\n",
       "      <td>...</td>\n",
       "      <td>...</td>\n",
       "      <td>...</td>\n",
       "      <td>...</td>\n",
       "      <td>...</td>\n",
       "      <td>...</td>\n",
       "      <td>...</td>\n",
       "      <td>...</td>\n",
       "      <td>...</td>\n",
       "      <td>...</td>\n",
       "      <td>...</td>\n",
       "      <td>...</td>\n",
       "      <td>...</td>\n",
       "      <td>...</td>\n",
       "      <td>...</td>\n",
       "      <td>...</td>\n",
       "    </tr>\n",
       "    <tr>\n",
       "      <th>TEAM_ABBREVIATION_y_SAC</th>\n",
       "      <td>-0.014441</td>\n",
       "      <td>0.003202</td>\n",
       "      <td>0.003202</td>\n",
       "      <td>-0.074135</td>\n",
       "      <td>-0.074135</td>\n",
       "      <td>-0.012421</td>\n",
       "      <td>-0.074135</td>\n",
       "      <td>-0.074135</td>\n",
       "      <td>0.104163</td>\n",
       "      <td>-0.050147</td>\n",
       "      <td>...</td>\n",
       "      <td>-0.033165</td>\n",
       "      <td>-0.034940</td>\n",
       "      <td>-0.034189</td>\n",
       "      <td>-0.034691</td>\n",
       "      <td>-0.034691</td>\n",
       "      <td>1.000000</td>\n",
       "      <td>-0.034691</td>\n",
       "      <td>-0.033935</td>\n",
       "      <td>-0.032904</td>\n",
       "      <td>-0.033935</td>\n",
       "    </tr>\n",
       "    <tr>\n",
       "      <th>TEAM_ABBREVIATION_y_SAS</th>\n",
       "      <td>0.003426</td>\n",
       "      <td>0.010828</td>\n",
       "      <td>0.010828</td>\n",
       "      <td>0.060430</td>\n",
       "      <td>0.060430</td>\n",
       "      <td>-0.032128</td>\n",
       "      <td>0.060430</td>\n",
       "      <td>0.060430</td>\n",
       "      <td>0.001313</td>\n",
       "      <td>0.113555</td>\n",
       "      <td>...</td>\n",
       "      <td>-0.034160</td>\n",
       "      <td>-0.035988</td>\n",
       "      <td>-0.035215</td>\n",
       "      <td>-0.035732</td>\n",
       "      <td>-0.035732</td>\n",
       "      <td>-0.034691</td>\n",
       "      <td>1.000000</td>\n",
       "      <td>-0.034954</td>\n",
       "      <td>-0.033892</td>\n",
       "      <td>-0.034954</td>\n",
       "    </tr>\n",
       "    <tr>\n",
       "      <th>TEAM_ABBREVIATION_y_TOR</th>\n",
       "      <td>0.029815</td>\n",
       "      <td>-0.009536</td>\n",
       "      <td>-0.009536</td>\n",
       "      <td>0.140501</td>\n",
       "      <td>0.140501</td>\n",
       "      <td>0.011175</td>\n",
       "      <td>0.140501</td>\n",
       "      <td>0.140501</td>\n",
       "      <td>-0.056053</td>\n",
       "      <td>-0.050527</td>\n",
       "      <td>...</td>\n",
       "      <td>-0.033416</td>\n",
       "      <td>-0.035204</td>\n",
       "      <td>-0.034448</td>\n",
       "      <td>-0.034954</td>\n",
       "      <td>-0.034954</td>\n",
       "      <td>-0.033935</td>\n",
       "      <td>-0.034954</td>\n",
       "      <td>1.000000</td>\n",
       "      <td>-0.033154</td>\n",
       "      <td>-0.034192</td>\n",
       "    </tr>\n",
       "    <tr>\n",
       "      <th>TEAM_ABBREVIATION_y_UTA</th>\n",
       "      <td>0.023046</td>\n",
       "      <td>-0.003113</td>\n",
       "      <td>-0.003113</td>\n",
       "      <td>0.048386</td>\n",
       "      <td>0.048386</td>\n",
       "      <td>0.007897</td>\n",
       "      <td>0.048386</td>\n",
       "      <td>0.048386</td>\n",
       "      <td>0.050784</td>\n",
       "      <td>-0.016447</td>\n",
       "      <td>...</td>\n",
       "      <td>-0.032401</td>\n",
       "      <td>-0.034135</td>\n",
       "      <td>-0.033401</td>\n",
       "      <td>-0.033892</td>\n",
       "      <td>-0.033892</td>\n",
       "      <td>-0.032904</td>\n",
       "      <td>-0.033892</td>\n",
       "      <td>-0.033154</td>\n",
       "      <td>1.000000</td>\n",
       "      <td>-0.033154</td>\n",
       "    </tr>\n",
       "    <tr>\n",
       "      <th>TEAM_ABBREVIATION_y_WAS</th>\n",
       "      <td>-0.061289</td>\n",
       "      <td>-0.001145</td>\n",
       "      <td>-0.001145</td>\n",
       "      <td>0.018565</td>\n",
       "      <td>0.018565</td>\n",
       "      <td>-0.039417</td>\n",
       "      <td>0.018565</td>\n",
       "      <td>0.018565</td>\n",
       "      <td>-0.047389</td>\n",
       "      <td>-0.050527</td>\n",
       "      <td>...</td>\n",
       "      <td>-0.033416</td>\n",
       "      <td>-0.035204</td>\n",
       "      <td>-0.034448</td>\n",
       "      <td>-0.034954</td>\n",
       "      <td>-0.034954</td>\n",
       "      <td>-0.033935</td>\n",
       "      <td>-0.034954</td>\n",
       "      <td>-0.034192</td>\n",
       "      <td>-0.033154</td>\n",
       "      <td>1.000000</td>\n",
       "    </tr>\n",
       "  </tbody>\n",
       "</table>\n",
       "<p>73 rows × 73 columns</p>\n",
       "</div>"
      ],
      "text/plain": [
       "                         DAYS_BTWN_GAMES_x  WINS_10GAMES_x  WINS_10GAMES_x  \\\n",
       "DAYS_BTWN_GAMES_x                 1.000000        0.058950        0.058950   \n",
       "WINS_10GAMES_x                    0.058950        1.000000        1.000000   \n",
       "WINS_10GAMES_x                    0.058950        1.000000        1.000000   \n",
       "WINS_10GAMES_y                    0.113343        0.203759        0.203759   \n",
       "WINS_10GAMES_y                    0.113343        0.203759        0.203759   \n",
       "...                                    ...             ...             ...   \n",
       "TEAM_ABBREVIATION_y_SAC          -0.014441        0.003202        0.003202   \n",
       "TEAM_ABBREVIATION_y_SAS           0.003426        0.010828        0.010828   \n",
       "TEAM_ABBREVIATION_y_TOR           0.029815       -0.009536       -0.009536   \n",
       "TEAM_ABBREVIATION_y_UTA           0.023046       -0.003113       -0.003113   \n",
       "TEAM_ABBREVIATION_y_WAS          -0.061289       -0.001145       -0.001145   \n",
       "\n",
       "                         WINS_10GAMES_y  WINS_10GAMES_y  DAYS_BTWN_GAMES_y  \\\n",
       "DAYS_BTWN_GAMES_x              0.113343        0.113343           0.504432   \n",
       "WINS_10GAMES_x                 0.203759        0.203759           0.081119   \n",
       "WINS_10GAMES_x                 0.203759        0.203759           0.081119   \n",
       "WINS_10GAMES_y                 1.000000        1.000000           0.065287   \n",
       "WINS_10GAMES_y                 1.000000        1.000000           0.065287   \n",
       "...                                 ...             ...                ...   \n",
       "TEAM_ABBREVIATION_y_SAC       -0.074135       -0.074135          -0.012421   \n",
       "TEAM_ABBREVIATION_y_SAS        0.060430        0.060430          -0.032128   \n",
       "TEAM_ABBREVIATION_y_TOR        0.140501        0.140501           0.011175   \n",
       "TEAM_ABBREVIATION_y_UTA        0.048386        0.048386           0.007897   \n",
       "TEAM_ABBREVIATION_y_WAS        0.018565        0.018565          -0.039417   \n",
       "\n",
       "                         WINS_10GAMES_y  WINS_10GAMES_y  distance_miles  \\\n",
       "DAYS_BTWN_GAMES_x              0.113343        0.113343       -0.008135   \n",
       "WINS_10GAMES_x                 0.203759        0.203759        0.021155   \n",
       "WINS_10GAMES_x                 0.203759        0.203759        0.021155   \n",
       "WINS_10GAMES_y                 1.000000        1.000000        0.051236   \n",
       "WINS_10GAMES_y                 1.000000        1.000000        0.051236   \n",
       "...                                 ...             ...             ...   \n",
       "TEAM_ABBREVIATION_y_SAC       -0.074135       -0.074135        0.104163   \n",
       "TEAM_ABBREVIATION_y_SAS        0.060430        0.060430        0.001313   \n",
       "TEAM_ABBREVIATION_y_TOR        0.140501        0.140501       -0.056053   \n",
       "TEAM_ABBREVIATION_y_UTA        0.048386        0.048386        0.050784   \n",
       "TEAM_ABBREVIATION_y_WAS        0.018565        0.018565       -0.047389   \n",
       "\n",
       "                          rivalry  ...  TEAM_ABBREVIATION_y_OKC  \\\n",
       "DAYS_BTWN_GAMES_x        0.003021  ...                 0.025438   \n",
       "WINS_10GAMES_x          -0.027957  ...                -0.013633   \n",
       "WINS_10GAMES_x          -0.027957  ...                -0.013633   \n",
       "WINS_10GAMES_y          -0.033800  ...                 0.060342   \n",
       "WINS_10GAMES_y          -0.033800  ...                 0.060342   \n",
       "...                           ...  ...                      ...   \n",
       "TEAM_ABBREVIATION_y_SAC -0.050147  ...                -0.033165   \n",
       "TEAM_ABBREVIATION_y_SAS  0.113555  ...                -0.034160   \n",
       "TEAM_ABBREVIATION_y_TOR -0.050527  ...                -0.033416   \n",
       "TEAM_ABBREVIATION_y_UTA -0.016447  ...                -0.032401   \n",
       "TEAM_ABBREVIATION_y_WAS -0.050527  ...                -0.033416   \n",
       "\n",
       "                         TEAM_ABBREVIATION_y_ORL  TEAM_ABBREVIATION_y_PHI  \\\n",
       "DAYS_BTWN_GAMES_x                      -0.001756                -0.004091   \n",
       "WINS_10GAMES_x                         -0.029616                -0.003052   \n",
       "WINS_10GAMES_x                         -0.029616                -0.003052   \n",
       "WINS_10GAMES_y                         -0.129410                 0.069614   \n",
       "WINS_10GAMES_y                         -0.129410                 0.069614   \n",
       "...                                          ...                      ...   \n",
       "TEAM_ABBREVIATION_y_SAC                -0.034940                -0.034189   \n",
       "TEAM_ABBREVIATION_y_SAS                -0.035988                -0.035215   \n",
       "TEAM_ABBREVIATION_y_TOR                -0.035204                -0.034448   \n",
       "TEAM_ABBREVIATION_y_UTA                -0.034135                -0.033401   \n",
       "TEAM_ABBREVIATION_y_WAS                -0.035204                -0.034448   \n",
       "\n",
       "                         TEAM_ABBREVIATION_y_PHX  TEAM_ABBREVIATION_y_POR  \\\n",
       "DAYS_BTWN_GAMES_x                      -0.029725                 0.005976   \n",
       "WINS_10GAMES_x                          0.010828                 0.024920   \n",
       "WINS_10GAMES_x                          0.010828                 0.024920   \n",
       "WINS_10GAMES_y                         -0.194412                 0.080908   \n",
       "WINS_10GAMES_y                         -0.194412                 0.080908   \n",
       "...                                          ...                      ...   \n",
       "TEAM_ABBREVIATION_y_SAC                -0.034691                -0.034691   \n",
       "TEAM_ABBREVIATION_y_SAS                -0.035732                -0.035732   \n",
       "TEAM_ABBREVIATION_y_TOR                -0.034954                -0.034954   \n",
       "TEAM_ABBREVIATION_y_UTA                -0.033892                -0.033892   \n",
       "TEAM_ABBREVIATION_y_WAS                -0.034954                -0.034954   \n",
       "\n",
       "                         TEAM_ABBREVIATION_y_SAC  TEAM_ABBREVIATION_y_SAS  \\\n",
       "DAYS_BTWN_GAMES_x                      -0.014441                 0.003426   \n",
       "WINS_10GAMES_x                          0.003202                 0.010828   \n",
       "WINS_10GAMES_x                          0.003202                 0.010828   \n",
       "WINS_10GAMES_y                         -0.074135                 0.060430   \n",
       "WINS_10GAMES_y                         -0.074135                 0.060430   \n",
       "...                                          ...                      ...   \n",
       "TEAM_ABBREVIATION_y_SAC                 1.000000                -0.034691   \n",
       "TEAM_ABBREVIATION_y_SAS                -0.034691                 1.000000   \n",
       "TEAM_ABBREVIATION_y_TOR                -0.033935                -0.034954   \n",
       "TEAM_ABBREVIATION_y_UTA                -0.032904                -0.033892   \n",
       "TEAM_ABBREVIATION_y_WAS                -0.033935                -0.034954   \n",
       "\n",
       "                         TEAM_ABBREVIATION_y_TOR  TEAM_ABBREVIATION_y_UTA  \\\n",
       "DAYS_BTWN_GAMES_x                       0.029815                 0.023046   \n",
       "WINS_10GAMES_x                         -0.009536                -0.003113   \n",
       "WINS_10GAMES_x                         -0.009536                -0.003113   \n",
       "WINS_10GAMES_y                          0.140501                 0.048386   \n",
       "WINS_10GAMES_y                          0.140501                 0.048386   \n",
       "...                                          ...                      ...   \n",
       "TEAM_ABBREVIATION_y_SAC                -0.033935                -0.032904   \n",
       "TEAM_ABBREVIATION_y_SAS                -0.034954                -0.033892   \n",
       "TEAM_ABBREVIATION_y_TOR                 1.000000                -0.033154   \n",
       "TEAM_ABBREVIATION_y_UTA                -0.033154                 1.000000   \n",
       "TEAM_ABBREVIATION_y_WAS                -0.034192                -0.033154   \n",
       "\n",
       "                         TEAM_ABBREVIATION_y_WAS  \n",
       "DAYS_BTWN_GAMES_x                      -0.061289  \n",
       "WINS_10GAMES_x                         -0.001145  \n",
       "WINS_10GAMES_x                         -0.001145  \n",
       "WINS_10GAMES_y                          0.018565  \n",
       "WINS_10GAMES_y                          0.018565  \n",
       "...                                          ...  \n",
       "TEAM_ABBREVIATION_y_SAC                -0.033935  \n",
       "TEAM_ABBREVIATION_y_SAS                -0.034954  \n",
       "TEAM_ABBREVIATION_y_TOR                -0.034192  \n",
       "TEAM_ABBREVIATION_y_UTA                -0.033154  \n",
       "TEAM_ABBREVIATION_y_WAS                 1.000000  \n",
       "\n",
       "[73 rows x 73 columns]"
      ]
     },
     "execution_count": 19,
     "metadata": {},
     "output_type": "execute_result"
    }
   ],
   "source": [
    "# correlation matrix \n",
    "correlation_matrix = pd.DataFrame(np.corrcoef(X_train, rowvar = 0))\n",
    "\n",
    "# label the different features:\n",
    "correlation_matrix.columns = X.columns\n",
    "correlation_matrix.index = X.columns\n",
    "\n",
    "correlation_matrix"
   ]
  },
  {
   "cell_type": "markdown",
   "metadata": {},
   "source": [
    " ## 1.1. Ridge"
   ]
  },
  {
   "cell_type": "markdown",
   "metadata": {},
   "source": [
    "Should we care about fixed effects???\n",
    "https://stats.stackexchange.com/questions/212297/why-disable-ridge-lasso-penalty-for-fixed-effects"
   ]
  },
  {
   "cell_type": "code",
   "execution_count": 122,
   "metadata": {
    "scrolled": true
   },
   "outputs": [
    {
     "data": {
      "text/plain": [
       "10.0"
      ]
     },
     "execution_count": 122,
     "metadata": {},
     "output_type": "execute_result"
    }
   ],
   "source": [
    "from sklearn import linear_model\n",
    "from sklearn.model_selection import GridSearchCV\n",
    "from sklearn.linear_model import Ridge\n",
    "from sklearn.metrics import mean_squared_error\n",
    "from math import sqrt\n",
    "import matplotlib.pyplot as plt\n",
    "\n",
    "# specify alpha\n",
    "reg_CV = linear_model.RidgeCV(alphas=np.linspace(start=0.1, stop=10, num=100), cv=5)\n",
    "reg_CV.fit(X_train, y_train)\n",
    "\n",
    "# optimal alpha\n",
    "reg_CV.alpha_"
   ]
  },
  {
   "cell_type": "code",
   "execution_count": 123,
   "metadata": {
    "scrolled": true
   },
   "outputs": [
    {
     "name": "stdout",
     "output_type": "stream",
     "text": [
      "DAYS_BTWN_GAMES_x          0.029972\n",
      "WINS_10GAMES_x             0.110662\n",
      "WINS_10GAMES_x             0.110662\n",
      "WINS_10GAMES_y            -0.052076\n",
      "WINS_10GAMES_y            -0.052076\n",
      "                             ...   \n",
      "TEAM_ABBREVIATION_y_SAC   -2.124840\n",
      "TEAM_ABBREVIATION_y_SAS   -6.896459\n",
      "TEAM_ABBREVIATION_y_TOR    1.356974\n",
      "TEAM_ABBREVIATION_y_UTA   -8.310115\n",
      "TEAM_ABBREVIATION_y_WAS    5.781071\n",
      "Length: 73, dtype: float64\n"
     ]
    }
   ],
   "source": [
    "# coefficients \n",
    "print(pd.Series(reg_CV.coef_, index = X.columns))"
   ]
  },
  {
   "cell_type": "code",
   "execution_count": 124,
   "metadata": {
    "scrolled": false
   },
   "outputs": [
    {
     "name": "stdout",
     "output_type": "stream",
     "text": [
      "Intercept is: -135693.1216573347\n",
      "Prediction for first game in test dataset: [226.40946013]\n"
     ]
    }
   ],
   "source": [
    "print (\"Intercept is: {0}\".format(reg_CV.intercept_))\n",
    "print (\"Prediction for first game in test dataset: {0}\".format(reg_CV.predict(X_test[0:1])))"
   ]
  },
  {
   "cell_type": "code",
   "execution_count": 125,
   "metadata": {
    "scrolled": true
   },
   "outputs": [
    {
     "name": "stdout",
     "output_type": "stream",
     "text": [
      "R2:0.156, MSE:401.88, RMSE:20.05\n"
     ]
    }
   ],
   "source": [
    "# model metrics\n",
    "score_ridge = reg_CV.score(X_train, y_train)\n",
    "ypred_ridge = reg_CV.predict(X_test)\n",
    "mse_ridge = mean_squared_error(y_test, ypred_ridge)\n",
    "print(\"R2:{0:.3f}, MSE:{1:.2f}, RMSE:{2:.2f}\"\n",
    "      .format(score_ridge, mse_ridge, np.sqrt(mse_ridge)))"
   ]
  },
  {
   "cell_type": "code",
   "execution_count": 126,
   "metadata": {
    "scrolled": false
   },
   "outputs": [
    {
     "data": {
      "image/png": "[encoded data removed]",
      "text/plain": [
       "<Figure size 648x360 with 1 Axes>"
      ]
     },
     "metadata": {
      "needs_background": "light"
     },
     "output_type": "display_data"
    }
   ],
   "source": [
    "plt.figure(figsize=(9, 5))\n",
    "xx_ridge = range(len(X_test))\n",
    "plt.scatter(xx_ridge, y_test, s=10, color=\"royalblue\", label=\"Original\")\n",
    "plt.plot(xx_ridge, ypred_ridge, lw=0.6, color=\"crimson\", label=\"Predicted\")\n",
    "plt.legend()\n",
    "plt.title('Ridge Regression')\n",
    "plt.show()"
   ]
  },
  {
   "cell_type": "code",
   "execution_count": 127,
   "metadata": {
    "scrolled": false
   },
   "outputs": [
    {
     "data": {
      "text/plain": [
       "<seaborn.axisgrid.FacetGrid at 0x1a63c55990>"
      ]
     },
     "execution_count": 127,
     "metadata": {},
     "output_type": "execute_result"
    },
    {
     "data": {
      "text/plain": [
       "<Figure size 648x360 with 0 Axes>"
      ]
     },
     "metadata": {},
     "output_type": "display_data"
    },
    {
     "data": {
      "image/png": "[encoded data removed]",
      "text/plain": [
       "<Figure size 360x360 with 1 Axes>"
      ]
     },
     "metadata": {
      "needs_background": "light"
     },
     "output_type": "display_data"
    }
   ],
   "source": [
    "plt.figure(figsize=(9, 5))\n",
    "plot_ridge = pd.DataFrame({'Pred': ypred_ridge, 'Actual': y_test})\n",
    "sns.lmplot(x = 'Pred', y = 'Actual', data = plot_ridge)"
   ]
  },
  {
   "cell_type": "code",
   "execution_count": 128,
   "metadata": {},
   "outputs": [
    {
     "data": {
      "text/html": [
       "<div>\n",
       "<style scoped>\n",
       "    .dataframe tbody tr th:only-of-type {\n",
       "        vertical-align: middle;\n",
       "    }\n",
       "\n",
       "    .dataframe tbody tr th {\n",
       "        vertical-align: top;\n",
       "    }\n",
       "\n",
       "    .dataframe thead th {\n",
       "        text-align: right;\n",
       "    }\n",
       "</style>\n",
       "<table border=\"1\" class=\"dataframe\">\n",
       "  <thead>\n",
       "    <tr style=\"text-align: right;\">\n",
       "      <th></th>\n",
       "      <th>Pred</th>\n",
       "      <th>Actual</th>\n",
       "    </tr>\n",
       "  </thead>\n",
       "  <tbody>\n",
       "    <tr>\n",
       "      <th>9023</th>\n",
       "      <td>226.409460</td>\n",
       "      <td>223</td>\n",
       "    </tr>\n",
       "    <tr>\n",
       "      <th>9024</th>\n",
       "      <td>226.409460</td>\n",
       "      <td>223</td>\n",
       "    </tr>\n",
       "    <tr>\n",
       "      <th>9025</th>\n",
       "      <td>226.409460</td>\n",
       "      <td>223</td>\n",
       "    </tr>\n",
       "    <tr>\n",
       "      <th>9026</th>\n",
       "      <td>233.159379</td>\n",
       "      <td>232</td>\n",
       "    </tr>\n",
       "    <tr>\n",
       "      <th>9027</th>\n",
       "      <td>233.159379</td>\n",
       "      <td>232</td>\n",
       "    </tr>\n",
       "    <tr>\n",
       "      <th>9028</th>\n",
       "      <td>233.159379</td>\n",
       "      <td>232</td>\n",
       "    </tr>\n",
       "    <tr>\n",
       "      <th>9029</th>\n",
       "      <td>218.179794</td>\n",
       "      <td>221</td>\n",
       "    </tr>\n",
       "    <tr>\n",
       "      <th>9030</th>\n",
       "      <td>218.179794</td>\n",
       "      <td>221</td>\n",
       "    </tr>\n",
       "    <tr>\n",
       "      <th>9031</th>\n",
       "      <td>218.179794</td>\n",
       "      <td>221</td>\n",
       "    </tr>\n",
       "    <tr>\n",
       "      <th>9032</th>\n",
       "      <td>215.107402</td>\n",
       "      <td>238</td>\n",
       "    </tr>\n",
       "  </tbody>\n",
       "</table>\n",
       "</div>"
      ],
      "text/plain": [
       "            Pred  Actual\n",
       "9023  226.409460     223\n",
       "9024  226.409460     223\n",
       "9025  226.409460     223\n",
       "9026  233.159379     232\n",
       "9027  233.159379     232\n",
       "9028  233.159379     232\n",
       "9029  218.179794     221\n",
       "9030  218.179794     221\n",
       "9031  218.179794     221\n",
       "9032  215.107402     238"
      ]
     },
     "execution_count": 128,
     "metadata": {},
     "output_type": "execute_result"
    }
   ],
   "source": [
    "plot_ridge.head(n = 10)"
   ]
  },
  {
   "cell_type": "code",
   "execution_count": 129,
   "metadata": {},
   "outputs": [],
   "source": [
    "lambdas = (0.001, 0.01, 0.1, 0.5, 1, 2, 10)\n",
    "l_num = 7\n",
    "pred_num = X.shape[1]\n",
    "\n",
    "# prepare data for enumerate\n",
    "coeff_a = np.zeros((l_num, pred_num))\n",
    "train_r_squared = np.zeros(l_num)\n",
    "test_r_squared = np.zeros(l_num)\n",
    "\n",
    "for ind, i in enumerate(lambdas):    \n",
    "    reg = Ridge(alpha = i)\n",
    "    reg.fit(X_train, y_train)\n",
    "\n",
    "    coeff_a[ind,:] = reg.coef_\n",
    "    train_r_squared[ind] = reg.score(X_train, y_train)\n",
    "    test_r_squared[ind] = reg.score(X_test, y_test)"
   ]
  },
  {
   "cell_type": "code",
   "execution_count": 130,
   "metadata": {
    "scrolled": true
   },
   "outputs": [
    {
     "data": {
      "image/png": "[encoded data removed]",
      "text/plain": [
       "<Figure size 648x360 with 1 Axes>"
      ]
     },
     "metadata": {
      "needs_background": "light"
     },
     "output_type": "display_data"
    }
   ],
   "source": [
    "# Plotting\n",
    "plt.figure(figsize=(9, 5))\n",
    "x = [0.001, 0.01, 0.1, 0.5, 1, 2, 10]\n",
    "xi = list(range(len(x)))\n",
    "plt.xticks(xi, x)\n",
    "plt.plot(train_r_squared, 'bo-', label=r'$R^2$ Training set', color=\"darkblue\", \n",
    "         alpha=0.8, linewidth=3)\n",
    "plt.plot(test_r_squared, 'bo-', label=r'$R^2$ Test set', color=\"darkred\", \n",
    "         alpha=0.8, linewidth=3)\n",
    "plt.xlabel('Lamda index'); plt.ylabel(r'$R^2$')\n",
    "plt.xlim(0, 6)\n",
    "plt.title(r'Evaluate Ridge Regression with Lamdas')\n",
    "plt.legend(loc='best')\n",
    "plt.grid()"
   ]
  },
  {
   "cell_type": "markdown",
   "metadata": {},
   "source": [
    "## 1.2. Lasso"
   ]
  },
  {
   "cell_type": "code",
   "execution_count": 131,
   "metadata": {},
   "outputs": [
    {
     "data": {
      "text/plain": [
       "LassoCV(alphas=[0.1, 1.0, 10.0], copy_X=True, cv=5, eps=0.001,\n",
       "        fit_intercept=True, max_iter=1000, n_alphas=100, n_jobs=None,\n",
       "        normalize=False, positive=False, precompute='auto', random_state=None,\n",
       "        selection='cyclic', tol=0.0001, verbose=False)"
      ]
     },
     "execution_count": 131,
     "metadata": {},
     "output_type": "execute_result"
    }
   ],
   "source": [
    "reg_lasso_CV = linear_model.LassoCV(eps = 0.001, n_alphas = 100, \n",
    "                                    alphas=[0.1, 1.0, 10.0], cv=5)\n",
    "reg_lasso_CV.fit(X_train, y_train)"
   ]
  },
  {
   "cell_type": "code",
   "execution_count": 132,
   "metadata": {},
   "outputs": [
    {
     "data": {
      "text/plain": [
       "0.1"
      ]
     },
     "execution_count": 132,
     "metadata": {},
     "output_type": "execute_result"
    }
   ],
   "source": [
    "# optimal alpha\n",
    "reg_lasso_CV.alpha_"
   ]
  },
  {
   "cell_type": "code",
   "execution_count": 133,
   "metadata": {},
   "outputs": [
    {
     "name": "stdout",
     "output_type": "stream",
     "text": [
      "DAYS_BTWN_GAMES_x         -0.000000e+00\n",
      "WINS_10GAMES_x             1.515551e-01\n",
      "WINS_10GAMES_x             0.000000e+00\n",
      "WINS_10GAMES_y            -7.257626e-02\n",
      "WINS_10GAMES_y            -1.193404e-16\n",
      "                               ...     \n",
      "TEAM_ABBREVIATION_y_SAC   -0.000000e+00\n",
      "TEAM_ABBREVIATION_y_SAS   -3.882622e+00\n",
      "TEAM_ABBREVIATION_y_TOR    0.000000e+00\n",
      "TEAM_ABBREVIATION_y_UTA   -4.861009e+00\n",
      "TEAM_ABBREVIATION_y_WAS    2.507525e+00\n",
      "Length: 73, dtype: float64\n"
     ]
    }
   ],
   "source": [
    "# coefficients \n",
    "print(pd.Series(reg_lasso_CV.coef_, index = X.columns))"
   ]
  },
  {
   "cell_type": "code",
   "execution_count": 134,
   "metadata": {},
   "outputs": [
    {
     "name": "stdout",
     "output_type": "stream",
     "text": [
      "Alpha is: 0.1\n",
      "Intercept is: -127328.91009959763\n",
      "Prediction for first game in test dataset: [224.99125634]\n"
     ]
    }
   ],
   "source": [
    "print (\"Alpha is: {0}\".format(reg_lasso_CV.alpha_))\n",
    "\n",
    "print (\"Intercept is: {0}\".format(reg_lasso_CV.intercept_))\n",
    "\n",
    "prediction = reg_lasso_CV.predict(X_test[0:1])\n",
    "\n",
    "print (\"Prediction for first game in test dataset: {0}\".format(prediction))"
   ]
  },
  {
   "cell_type": "code",
   "execution_count": 135,
   "metadata": {},
   "outputs": [
    {
     "name": "stdout",
     "output_type": "stream",
     "text": [
      "R2:0.120, MSE:405.52, RMSE:20.14\n"
     ]
    }
   ],
   "source": [
    "# model metrics\n",
    "from sklearn.linear_model import Lasso\n",
    "\n",
    "score_lasso = reg_lasso_CV.score(X_train, y_train)\n",
    "ypred_lasso = reg_lasso_CV.predict(X_test)\n",
    "mse_lasso = mean_squared_error(y_test, ypred_lasso)\n",
    "print(\"R2:{0:.3f}, MSE:{1:.2f}, RMSE:{2:.2f}\"\n",
    "      .format(score_lasso, mse_lasso, np.sqrt(mse_lasso)))"
   ]
  },
  {
   "cell_type": "code",
   "execution_count": 158,
   "metadata": {
    "scrolled": false
   },
   "outputs": [
    {
     "data": {
      "image/png": "[encoded data removed]",
      "text/plain": [
       "<Figure size 360x360 with 1 Axes>"
      ]
     },
     "metadata": {
      "needs_background": "light"
     },
     "output_type": "display_data"
    }
   ],
   "source": [
    "plt.figure(figsize=(5, 5))\n",
    "xx_lasso = range(len(X_test))\n",
    "plt.scatter(xx_lasso, y_test, s=10, color=\"royalblue\", label=\"Original\")\n",
    "plt.plot(xx_lasso, ypred_lasso, lw=0.7, color=\"crimson\", label=\"Predicted\")\n",
    "plt.legend()\n",
    "plt.title('Lasso Regression')\n",
    "plt.show()"
   ]
  },
  {
   "cell_type": "code",
   "execution_count": 137,
   "metadata": {
    "scrolled": false
   },
   "outputs": [
    {
     "data": {
      "text/plain": [
       "<seaborn.axisgrid.FacetGrid at 0x1a5e503650>"
      ]
     },
     "execution_count": 137,
     "metadata": {},
     "output_type": "execute_result"
    },
    {
     "data": {
      "text/plain": [
       "<Figure size 648x360 with 0 Axes>"
      ]
     },
     "metadata": {},
     "output_type": "display_data"
    },
    {
     "data": {
      "image/png": "[encoded data removed]",
      "text/plain": [
       "<Figure size 360x360 with 1 Axes>"
      ]
     },
     "metadata": {
      "needs_background": "light"
     },
     "output_type": "display_data"
    }
   ],
   "source": [
    "plt.figure(figsize=(9, 5))\n",
    "plot_lasso = pd.DataFrame({'Pred': ypred_lasso, 'Actual': y_test})\n",
    "sns.lmplot(x = 'Pred', y = 'Actual', data = plot_lasso)"
   ]
  },
  {
   "cell_type": "code",
   "execution_count": 138,
   "metadata": {},
   "outputs": [
    {
     "data": {
      "text/html": [
       "<div>\n",
       "<style scoped>\n",
       "    .dataframe tbody tr th:only-of-type {\n",
       "        vertical-align: middle;\n",
       "    }\n",
       "\n",
       "    .dataframe tbody tr th {\n",
       "        vertical-align: top;\n",
       "    }\n",
       "\n",
       "    .dataframe thead th {\n",
       "        text-align: right;\n",
       "    }\n",
       "</style>\n",
       "<table border=\"1\" class=\"dataframe\">\n",
       "  <thead>\n",
       "    <tr style=\"text-align: right;\">\n",
       "      <th></th>\n",
       "      <th>Pred</th>\n",
       "      <th>Actual</th>\n",
       "    </tr>\n",
       "  </thead>\n",
       "  <tbody>\n",
       "    <tr>\n",
       "      <th>9023</th>\n",
       "      <td>224.991256</td>\n",
       "      <td>223</td>\n",
       "    </tr>\n",
       "    <tr>\n",
       "      <th>9024</th>\n",
       "      <td>224.991256</td>\n",
       "      <td>223</td>\n",
       "    </tr>\n",
       "    <tr>\n",
       "      <th>9025</th>\n",
       "      <td>224.991256</td>\n",
       "      <td>223</td>\n",
       "    </tr>\n",
       "    <tr>\n",
       "      <th>9026</th>\n",
       "      <td>226.431821</td>\n",
       "      <td>232</td>\n",
       "    </tr>\n",
       "    <tr>\n",
       "      <th>9027</th>\n",
       "      <td>226.431821</td>\n",
       "      <td>232</td>\n",
       "    </tr>\n",
       "    <tr>\n",
       "      <th>9028</th>\n",
       "      <td>226.431821</td>\n",
       "      <td>232</td>\n",
       "    </tr>\n",
       "    <tr>\n",
       "      <th>9029</th>\n",
       "      <td>222.868951</td>\n",
       "      <td>221</td>\n",
       "    </tr>\n",
       "    <tr>\n",
       "      <th>9030</th>\n",
       "      <td>222.868951</td>\n",
       "      <td>221</td>\n",
       "    </tr>\n",
       "    <tr>\n",
       "      <th>9031</th>\n",
       "      <td>222.868951</td>\n",
       "      <td>221</td>\n",
       "    </tr>\n",
       "    <tr>\n",
       "      <th>9032</th>\n",
       "      <td>215.244712</td>\n",
       "      <td>238</td>\n",
       "    </tr>\n",
       "  </tbody>\n",
       "</table>\n",
       "</div>"
      ],
      "text/plain": [
       "            Pred  Actual\n",
       "9023  224.991256     223\n",
       "9024  224.991256     223\n",
       "9025  224.991256     223\n",
       "9026  226.431821     232\n",
       "9027  226.431821     232\n",
       "9028  226.431821     232\n",
       "9029  222.868951     221\n",
       "9030  222.868951     221\n",
       "9031  222.868951     221\n",
       "9032  215.244712     238"
      ]
     },
     "execution_count": 138,
     "metadata": {},
     "output_type": "execute_result"
    }
   ],
   "source": [
    "plot_lasso.head(n = 10)"
   ]
  },
  {
   "cell_type": "code",
   "execution_count": 139,
   "metadata": {},
   "outputs": [],
   "source": [
    "lambdas = (0.001, 0.01, 0.1, 0.5, 1, 2, 10)\n",
    "l_num = 7\n",
    "pred_num = X.shape[1]\n",
    "\n",
    "# prepare data for enumerate\n",
    "coeff_a = np.zeros((l_num, pred_num))\n",
    "train_r_squared = np.zeros(l_num)\n",
    "test_r_squared = np.zeros(l_num)\n",
    "\n",
    "for ind, i in enumerate(lambdas):    \n",
    "    reg = Lasso(alpha = i)\n",
    "    reg.fit(X_train, y_train)\n",
    "\n",
    "    coeff_a[ind,:] = reg.coef_\n",
    "    train_r_squared[ind] = reg.score(X_train, y_train)\n",
    "    test_r_squared[ind] = reg.score(X_test, y_test)"
   ]
  },
  {
   "cell_type": "code",
   "execution_count": 152,
   "metadata": {
    "scrolled": true
   },
   "outputs": [
    {
     "data": {
      "image/png": "[encoded data removed]",
      "text/plain": [
       "<Figure size 360x360 with 1 Axes>"
      ]
     },
     "metadata": {
      "needs_background": "light"
     },
     "output_type": "display_data"
    }
   ],
   "source": [
    "# Plotting\n",
    "plt.figure(figsize=(5, 5))\n",
    "x = [0.001, 0.01, 0.1, 0.5, 1, 2, 10]\n",
    "xi = list(range(len(x)))\n",
    "plt.xticks(xi, x)\n",
    "plt.plot(train_r_squared, 'bo-', label=r'$R^2$ Training set', color=\"darkblue\", \n",
    "         alpha=0.8, linewidth=3)\n",
    "plt.plot(test_r_squared, 'bo-', label=r'$R^2$ Test set', color=\"darkred\", \n",
    "         alpha=0.8, linewidth=3)\n",
    "plt.xlabel('Lamda index'); plt.ylabel(r'$R^2$')\n",
    "plt.xlim(0, 6)\n",
    "plt.title(r'Evaluate Lasso Regression with Lamdas')\n",
    "plt.legend(loc='best')\n",
    "plt.grid()"
   ]
  },
  {
   "cell_type": "markdown",
   "metadata": {},
   "source": [
    "## 1.3. Elastic Net"
   ]
  },
  {
   "cell_type": "code",
   "execution_count": 141,
   "metadata": {},
   "outputs": [
    {
     "data": {
      "text/plain": [
       "ElasticNetCV(alphas=[0.1, 0.5, 1.0, 1.5, 1, 3, 5, 10.0], copy_X=True, cv=5,\n",
       "             eps=0.001, fit_intercept=True,\n",
       "             l1_ratio=[0.1, 0.5, 0.7, 0.9, 0.95, 0.99, 1.0], max_iter=1000,\n",
       "             n_alphas=100, n_jobs=None, normalize=False, positive=False,\n",
       "             precompute='auto', random_state=None, selection='cyclic',\n",
       "             tol=0.0001, verbose=0)"
      ]
     },
     "execution_count": 141,
     "metadata": {},
     "output_type": "execute_result"
    }
   ],
   "source": [
    "# Elastic Net\n",
    "from sklearn.linear_model import ElasticNet\n",
    "from sklearn.datasets import make_regression\n",
    "from sklearn.metrics import mean_squared_error\n",
    "import matplotlib.pyplot as plt\n",
    "\n",
    "\n",
    "reg_elastic_net_CV = linear_model.ElasticNetCV(alphas=[0.1, 0.5, 1.0, 1.5, 1, 3, 5, 10.0], \n",
    "                                               l1_ratio = [0.1, 0.5, 0.7, 0.9, 0.95, 0.99, 1.0],\n",
    "                                               cv=5)\n",
    "reg_elastic_net_CV.fit(X_train, y_train)"
   ]
  },
  {
   "cell_type": "code",
   "execution_count": 142,
   "metadata": {},
   "outputs": [
    {
     "data": {
      "text/plain": [
       "0.1"
      ]
     },
     "execution_count": 142,
     "metadata": {},
     "output_type": "execute_result"
    }
   ],
   "source": [
    "# optimal alpha\n",
    "reg_elastic_net_CV.alpha_"
   ]
  },
  {
   "cell_type": "code",
   "execution_count": 143,
   "metadata": {
    "scrolled": true
   },
   "outputs": [
    {
     "name": "stdout",
     "output_type": "stream",
     "text": [
      "DAYS_BTWN_GAMES_x         -0.000000\n",
      "WINS_10GAMES_x             0.123229\n",
      "WINS_10GAMES_x             0.036791\n",
      "WINS_10GAMES_y            -0.040226\n",
      "WINS_10GAMES_y            -0.011809\n",
      "                             ...   \n",
      "TEAM_ABBREVIATION_y_SAC   -0.000000\n",
      "TEAM_ABBREVIATION_y_SAS   -2.325874\n",
      "TEAM_ABBREVIATION_y_TOR    0.000000\n",
      "TEAM_ABBREVIATION_y_UTA   -2.739626\n",
      "TEAM_ABBREVIATION_y_WAS    1.820725\n",
      "Length: 73, dtype: float64\n"
     ]
    }
   ],
   "source": [
    "# coefficients \n",
    "print(pd.Series(reg_elastic_net_CV.coef_, index = X.columns))"
   ]
  },
  {
   "cell_type": "code",
   "execution_count": 144,
   "metadata": {},
   "outputs": [
    {
     "name": "stdout",
     "output_type": "stream",
     "text": [
      "Alpha is: 0.1\n",
      "Grid of alphas used is: [10.   5.   3.   1.5  1.   1.   0.5  0.1]\n",
      "L1 ratio is: 0.7\n",
      "Intercept is: -115953.0105029735\n",
      "Prediction for first house in test dataset: [225.23769071]\n"
     ]
    }
   ],
   "source": [
    "print (\"Alpha is: {0}\".format(reg_elastic_net_CV.alpha_))\n",
    "\n",
    "print (\"Grid of alphas used is: {0}\".format(reg_elastic_net_CV.alphas_))\n",
    "\n",
    "print (\"L1 ratio is: {0}\".format(reg_elastic_net_CV.l1_ratio_))\n",
    "\n",
    "print (\"Intercept is: {0}\".format(reg_elastic_net_CV.intercept_))\n",
    "\n",
    "prediction = reg_elastic_net_CV.predict(X_test[0:1])\n",
    "\n",
    "print (\"Prediction for first house in test dataset: {0}\".format(prediction))"
   ]
  },
  {
   "cell_type": "code",
   "execution_count": 145,
   "metadata": {},
   "outputs": [
    {
     "name": "stdout",
     "output_type": "stream",
     "text": [
      "R2:0.027, MSE:411.49, RMSE:20.29\n"
     ]
    }
   ],
   "source": [
    "# model metrics\n",
    "score_enet = reg_elastic_net_CV.score(X_test, y_test)\n",
    "ypred_enet = reg_elastic_net_CV.predict(X_test)\n",
    "mse_enet = mean_squared_error(y_test, ypred_enet)\n",
    "print(\"R2:{0:.3f}, MSE:{1:.2f}, RMSE:{2:.2f}\"\n",
    "      .format(score_enet, mse_enet, np.sqrt(mse_enet)))"
   ]
  },
  {
   "cell_type": "code",
   "execution_count": 146,
   "metadata": {
    "scrolled": true
   },
   "outputs": [
    {
     "data": {
      "image/png": "[encoded data removed]",
      "text/plain": [
       "<Figure size 648x360 with 1 Axes>"
      ]
     },
     "metadata": {
      "needs_background": "light"
     },
     "output_type": "display_data"
    }
   ],
   "source": [
    "plt.figure(figsize=(9, 5))\n",
    "xx = range(len(X_test))\n",
    "plt.scatter(xx, y_test, s=10, color=\"royalblue\", label=\"Original\")\n",
    "plt.plot(xx, ypred_enet, lw=0.7, color=\"crimson\", label=\"Predicted\")\n",
    "plt.legend()\n",
    "plt.title('Elastic Net')\n",
    "plt.show()"
   ]
  },
  {
   "cell_type": "code",
   "execution_count": 147,
   "metadata": {
    "scrolled": false
   },
   "outputs": [
    {
     "data": {
      "text/plain": [
       "<seaborn.axisgrid.FacetGrid at 0x1a638c2290>"
      ]
     },
     "execution_count": 147,
     "metadata": {},
     "output_type": "execute_result"
    },
    {
     "data": {
      "text/plain": [
       "<Figure size 648x360 with 0 Axes>"
      ]
     },
     "metadata": {},
     "output_type": "display_data"
    },
    {
     "data": {
      "image/png": "[encoded data removed]",
      "text/plain": [
       "<Figure size 360x360 with 1 Axes>"
      ]
     },
     "metadata": {
      "needs_background": "light"
     },
     "output_type": "display_data"
    }
   ],
   "source": [
    "plt.figure(figsize=(9, 5))\n",
    "plot_enet = pd.DataFrame({'Pred': ypred_enet, 'Actual': y_test})\n",
    "sns.lmplot(x = 'Pred', y = 'Actual', data = plot_enet)"
   ]
  },
  {
   "cell_type": "code",
   "execution_count": 148,
   "metadata": {
    "scrolled": false
   },
   "outputs": [
    {
     "data": {
      "text/html": [
       "<div>\n",
       "<style scoped>\n",
       "    .dataframe tbody tr th:only-of-type {\n",
       "        vertical-align: middle;\n",
       "    }\n",
       "\n",
       "    .dataframe tbody tr th {\n",
       "        vertical-align: top;\n",
       "    }\n",
       "\n",
       "    .dataframe thead th {\n",
       "        text-align: right;\n",
       "    }\n",
       "</style>\n",
       "<table border=\"1\" class=\"dataframe\">\n",
       "  <thead>\n",
       "    <tr style=\"text-align: right;\">\n",
       "      <th></th>\n",
       "      <th>Pred</th>\n",
       "      <th>Actual</th>\n",
       "    </tr>\n",
       "  </thead>\n",
       "  <tbody>\n",
       "    <tr>\n",
       "      <th>9023</th>\n",
       "      <td>225.237691</td>\n",
       "      <td>223</td>\n",
       "    </tr>\n",
       "    <tr>\n",
       "      <th>9024</th>\n",
       "      <td>225.237691</td>\n",
       "      <td>223</td>\n",
       "    </tr>\n",
       "    <tr>\n",
       "      <th>9025</th>\n",
       "      <td>225.237691</td>\n",
       "      <td>223</td>\n",
       "    </tr>\n",
       "    <tr>\n",
       "      <th>9026</th>\n",
       "      <td>224.831943</td>\n",
       "      <td>232</td>\n",
       "    </tr>\n",
       "    <tr>\n",
       "      <th>9027</th>\n",
       "      <td>224.831943</td>\n",
       "      <td>232</td>\n",
       "    </tr>\n",
       "    <tr>\n",
       "      <th>9028</th>\n",
       "      <td>224.831943</td>\n",
       "      <td>232</td>\n",
       "    </tr>\n",
       "    <tr>\n",
       "      <th>9029</th>\n",
       "      <td>221.921129</td>\n",
       "      <td>221</td>\n",
       "    </tr>\n",
       "    <tr>\n",
       "      <th>9030</th>\n",
       "      <td>221.921129</td>\n",
       "      <td>221</td>\n",
       "    </tr>\n",
       "    <tr>\n",
       "      <th>9031</th>\n",
       "      <td>221.921129</td>\n",
       "      <td>221</td>\n",
       "    </tr>\n",
       "    <tr>\n",
       "      <th>9032</th>\n",
       "      <td>215.775433</td>\n",
       "      <td>238</td>\n",
       "    </tr>\n",
       "  </tbody>\n",
       "</table>\n",
       "</div>"
      ],
      "text/plain": [
       "            Pred  Actual\n",
       "9023  225.237691     223\n",
       "9024  225.237691     223\n",
       "9025  225.237691     223\n",
       "9026  224.831943     232\n",
       "9027  224.831943     232\n",
       "9028  224.831943     232\n",
       "9029  221.921129     221\n",
       "9030  221.921129     221\n",
       "9031  221.921129     221\n",
       "9032  215.775433     238"
      ]
     },
     "execution_count": 148,
     "metadata": {},
     "output_type": "execute_result"
    }
   ],
   "source": [
    "plot_enet.head(n = 10)"
   ]
  },
  {
   "cell_type": "code",
   "execution_count": 149,
   "metadata": {},
   "outputs": [],
   "source": [
    "lambdas = (0.001, 0.01, 0.1, 0.5, 1, 2, 10)\n",
    "l_num = 7\n",
    "pred_num = X.shape[1]\n",
    "\n",
    "# prepare data for enumerate\n",
    "coeff_a = np.zeros((l_num, pred_num))\n",
    "train_r_squared = np.zeros(l_num)\n",
    "test_r_squared = np.zeros(l_num)\n",
    "\n",
    "for ind, i in enumerate(lambdas):    \n",
    "    reg = ElasticNet(alpha = i)\n",
    "    reg.fit(X_train, y_train)\n",
    "\n",
    "    coeff_a[ind,:] = reg.coef_\n",
    "    train_r_squared[ind] = reg.score(X_train, y_train)\n",
    "    test_r_squared[ind] = reg.score(X_test, y_test)"
   ]
  },
  {
   "cell_type": "code",
   "execution_count": 151,
   "metadata": {
    "scrolled": false
   },
   "outputs": [
    {
     "data": {
      "image/png": "[encoded data removed]",
      "text/plain": [
       "<Figure size 648x360 with 1 Axes>"
      ]
     },
     "metadata": {
      "needs_background": "light"
     },
     "output_type": "display_data"
    }
   ],
   "source": [
    "# Plotting\n",
    "plt.figure(figsize=(9, 5))\n",
    "x = [0.001, 0.01, 0.1, 0.5, 1, 2, 10]\n",
    "xi = list(range(len(x)))\n",
    "plt.xticks(xi, x)\n",
    "plt.plot(train_r_squared, 'bo-', label=r'$R^2$ Training set', color=\"darkblue\", \n",
    "         alpha=0.8, linewidth=3)\n",
    "plt.plot(test_r_squared, 'bo-', label=r'$R^2$ Test set', color=\"darkred\", \n",
    "         alpha=0.8, linewidth=3)\n",
    "plt.xlabel('Lamda index'); plt.ylabel(r'$R^2$')\n",
    "plt.xlim(0, 6)\n",
    "plt.title(r'Evaluate Elastic Net with Lamdas')\n",
    "plt.legend(loc='best')\n",
    "plt.grid()"
   ]
  },
  {
   "cell_type": "markdown",
   "metadata": {},
   "source": [
    "## 1.4. Conclusion "
   ]
  },
  {
   "cell_type": "code",
   "execution_count": 120,
   "metadata": {
    "scrolled": false
   },
   "outputs": [
    {
     "name": "stdout",
     "output_type": "stream",
     "text": [
      "Ridge(MSE):401.879, Lasso(MSE):405.52, Elastic Net(MSE):411.49\n"
     ]
    }
   ],
   "source": [
    "print(\"Ridge(MSE):{0:.3f}, Lasso(MSE):{1:.2f}, Elastic Net(MSE):{2:.2f}\"\n",
    "      .format(mse_ridge, mse_lasso, mse_enet))"
   ]
  },
  {
   "cell_type": "code",
   "execution_count": 121,
   "metadata": {
    "scrolled": true
   },
   "outputs": [
    {
     "name": "stdout",
     "output_type": "stream",
     "text": [
      "Ridge(R2):0.156, Lasso(R2):0.12, Elastic Net(R2):0.03\n"
     ]
    }
   ],
   "source": [
    "print(\"Ridge(R2):{0:.3f}, Lasso(R2):{1:.2f}, Elastic Net(R2):{2:.2f}\"\n",
    "      .format(score_ridge, score_lasso, score_enet))"
   ]
  },
  {
   "cell_type": "markdown",
   "metadata": {},
   "source": [
    "Unlike the last try, it seems the ridge model performs better than the others. The R2 is much better than the last models..."
   ]
  },
  {
   "cell_type": "markdown",
   "metadata": {},
   "source": [
    "## 2. Test/Training Sets by Time Periods"
   ]
  },
  {
   "cell_type": "markdown",
   "metadata": {},
   "source": [
    "Following Daniel's approach, split the training/test sets by time periods. "
   ]
  },
  {
   "cell_type": "code",
   "execution_count": 493,
   "metadata": {},
   "outputs": [],
   "source": [
    "train = nba_trans[nba_trans.GAME_DATE.dt.year != 2019]\n",
    "test = nba_trans[nba_trans.GAME_DATE.dt.year == 2019]"
   ]
  },
  {
   "cell_type": "code",
   "execution_count": 494,
   "metadata": {},
   "outputs": [],
   "source": [
    "X_train2 = train.drop(['TOT_PTS', 'GAME_DATE'], axis = 1)\n",
    "X_test2 = test.drop(['TOT_PTS', 'GAME_DATE'], axis = 1)\n",
    "y_train2 = train['TOT_PTS']\n",
    "y_test2 = test['TOT_PTS']"
   ]
  },
  {
   "cell_type": "markdown",
   "metadata": {},
   "source": [
    "## 2.1. Ridge"
   ]
  },
  {
   "cell_type": "code",
   "execution_count": 495,
   "metadata": {
    "scrolled": true
   },
   "outputs": [
    {
     "data": {
      "text/plain": [
       "RidgeCV(alphas=array([ 0.1,  0.2,  0.3,  0.4,  0.5,  0.6,  0.7,  0.8,  0.9,  1. ,  1.1,\n",
       "        1.2,  1.3,  1.4,  1.5,  1.6,  1.7,  1.8,  1.9,  2. ,  2.1,  2.2,\n",
       "        2.3,  2.4,  2.5,  2.6,  2.7,  2.8,  2.9,  3. ,  3.1,  3.2,  3.3,\n",
       "        3.4,  3.5,  3.6,  3.7,  3.8,  3.9,  4. ,  4.1,  4.2,  4.3,  4.4,\n",
       "        4.5,  4.6,  4.7,  4.8,  4.9,  5. ,  5.1,  5.2,  5.3,  5.4,  5.5,\n",
       "        5.6,  5.7,  5.8,  5.9,  6. ,  6.1,  6.2,  6.3,  6.4,  6.5,  6.6,\n",
       "        6.7,  6.8,  6.9,  7. ,  7.1,  7.2,  7.3,  7.4,  7.5,  7.6,  7.7,\n",
       "        7.8,  7.9,  8. ,  8.1,  8.2,  8.3,  8.4,  8.5,  8.6,  8.7,  8.8,\n",
       "        8.9,  9. ,  9.1,  9.2,  9.3,  9.4,  9.5,  9.6,  9.7,  9.8,  9.9,\n",
       "       10. ]),\n",
       "        cv=5, fit_intercept=True, gcv_mode=None, normalize=False, scoring=None,\n",
       "        store_cv_values=False)"
      ]
     },
     "execution_count": 495,
     "metadata": {},
     "output_type": "execute_result"
    }
   ],
   "source": [
    "reg_CV.fit(X_train2, y_train2)"
   ]
  },
  {
   "cell_type": "code",
   "execution_count": 415,
   "metadata": {},
   "outputs": [
    {
     "name": "stdout",
     "output_type": "stream",
     "text": [
      "DAYS_BTWN_GAMES_x          0.028187\n",
      "WINS_10GAMES_x             0.101891\n",
      "WINS_10GAMES_x             0.101891\n",
      "WINS_10GAMES_y            -0.050546\n",
      "WINS_10GAMES_y            -0.050546\n",
      "                             ...   \n",
      "TEAM_ABBREVIATION_y_SAC   -1.871284\n",
      "TEAM_ABBREVIATION_y_SAS   -6.779841\n",
      "TEAM_ABBREVIATION_y_TOR    2.101949\n",
      "TEAM_ABBREVIATION_y_UTA   -8.623656\n",
      "TEAM_ABBREVIATION_y_WAS    5.666517\n",
      "Length: 73, dtype: float64\n"
     ]
    }
   ],
   "source": [
    "# coefficients \n",
    "print(pd.Series(reg_CV.coef_, index = X.columns))"
   ]
  },
  {
   "cell_type": "code",
   "execution_count": 416,
   "metadata": {},
   "outputs": [
    {
     "name": "stdout",
     "output_type": "stream",
     "text": [
      "Intercept is: -132984.743958171\n",
      "Prediction for first game in test dataset: [222.01842168]\n"
     ]
    }
   ],
   "source": [
    "print (\"Intercept is: {0}\".format(reg_CV.intercept_))\n",
    "print (\"Prediction for first game in test dataset: {0}\".format(reg_CV.predict(X_test[0:1])))"
   ]
  },
  {
   "cell_type": "code",
   "execution_count": 417,
   "metadata": {},
   "outputs": [
    {
     "name": "stdout",
     "output_type": "stream",
     "text": [
      "R2:0.159, MSE:402.15, RMSE:20.05\n"
     ]
    }
   ],
   "source": [
    "# model metrics\n",
    "score_ridge2 = reg_CV.score(X_train2, y_train2)\n",
    "ypred_ridge2 = reg_CV.predict(X_test2)\n",
    "mse_ridge2 = mean_squared_error(y_test2, ypred_ridge2)\n",
    "print(\"R2:{0:.3f}, MSE:{1:.2f}, RMSE:{2:.2f}\"\n",
    "      .format(score_ridge2, mse_ridge2, np.sqrt(mse_ridge2)))"
   ]
  },
  {
   "cell_type": "code",
   "execution_count": 418,
   "metadata": {},
   "outputs": [
    {
     "data": {
      "image/png": "[encoded data removed]",
      "text/plain": [
       "<Figure size 576x432 with 1 Axes>"
      ]
     },
     "metadata": {
      "needs_background": "light"
     },
     "output_type": "display_data"
    }
   ],
   "source": [
    "plt.figure(figsize=(8, 6))\n",
    "xx_ridge2 = range(len(X_test2))\n",
    "plt.scatter(xx_ridge2, y_test2, s=10, color=\"b\", label=\"Original\")\n",
    "plt.plot(xx_ridge2, ypred_ridge2, lw=1, color=\"r\", label=\"Predicted\")\n",
    "plt.legend()\n",
    "plt.show()"
   ]
  },
  {
   "cell_type": "code",
   "execution_count": 419,
   "metadata": {
    "scrolled": true
   },
   "outputs": [
    {
     "data": {
      "image/png": "[encoded data removed]",
      "text/plain": [
       "<Figure size 576x432 with 1 Axes>"
      ]
     },
     "metadata": {
      "needs_background": "light"
     },
     "output_type": "display_data"
    }
   ],
   "source": [
    "for ind, i in enumerate(lambdas):    \n",
    "    reg = Ridge(alpha = i)\n",
    "    reg.fit(X_train2, y_train2)\n",
    "\n",
    "    coeff_a[ind,:] = reg.coef_\n",
    "    train_r_squared[ind] = reg.score(X_train2, y_train2)\n",
    "    test_r_squared[ind] = reg.score(X_test2, y_test2)\n",
    "    \n",
    "# Plotting\n",
    "plt.figure(figsize=(8, 6))\n",
    "plt.plot(train_r_squared, 'bo-', label=r'$R^2$ Training set', color=\"darkblue\", \n",
    "         alpha=0.8, linewidth=3)\n",
    "plt.plot(test_r_squared, 'bo-', label=r'$R^2$ Test set', color=\"darkred\", \n",
    "         alpha=0.8, linewidth=3)\n",
    "plt.xlabel('Lamda index'); plt.ylabel(r'$R^2$')\n",
    "plt.xlim(0, 6)\n",
    "plt.title(r'Evaluate lasso regression with lamdas: 0 = 0.001, 1= 0.01, 2 = 0.1, 3 = 0.5, 4= 1, 5= 2, 6 = 10')\n",
    "plt.legend(loc='best')\n",
    "plt.grid()"
   ]
  },
  {
   "cell_type": "markdown",
   "metadata": {},
   "source": [
    "## 2.2. Lasso"
   ]
  },
  {
   "cell_type": "code",
   "execution_count": 420,
   "metadata": {
    "scrolled": true
   },
   "outputs": [
    {
     "data": {
      "text/plain": [
       "LassoCV(alphas=[0.1, 1.0, 10.0], copy_X=True, cv=5, eps=0.001,\n",
       "        fit_intercept=True, max_iter=1000, n_alphas=100, n_jobs=None,\n",
       "        normalize=False, positive=False, precompute='auto', random_state=None,\n",
       "        selection='cyclic', tol=0.0001, verbose=False)"
      ]
     },
     "execution_count": 420,
     "metadata": {},
     "output_type": "execute_result"
    }
   ],
   "source": [
    "reg_lasso_CV.fit(X_train2, y_train2)"
   ]
  },
  {
   "cell_type": "code",
   "execution_count": 421,
   "metadata": {},
   "outputs": [
    {
     "name": "stdout",
     "output_type": "stream",
     "text": [
      "DAYS_BTWN_GAMES_x         -0.000000e+00\n",
      "WINS_10GAMES_x             1.491008e-01\n",
      "WINS_10GAMES_x             1.361006e-16\n",
      "WINS_10GAMES_y            -4.587101e-02\n",
      "WINS_10GAMES_y            -0.000000e+00\n",
      "                               ...     \n",
      "TEAM_ABBREVIATION_y_SAC   -0.000000e+00\n",
      "TEAM_ABBREVIATION_y_SAS   -3.726243e+00\n",
      "TEAM_ABBREVIATION_y_TOR    0.000000e+00\n",
      "TEAM_ABBREVIATION_y_UTA   -5.294702e+00\n",
      "TEAM_ABBREVIATION_y_WAS    2.344129e+00\n",
      "Length: 73, dtype: float64\n",
      "Alpha is: 0.1\n",
      "Intercept is: -125366.23668525356\n",
      "Prediction for first game in test dataset: [221.47360254]\n"
     ]
    }
   ],
   "source": [
    "# coefficients \n",
    "print(pd.Series(reg_lasso_CV.coef_, index = X.columns))\n",
    "\n",
    "print (\"Alpha is: {0}\".format(reg_lasso_CV.alpha_))\n",
    "\n",
    "print (\"Intercept is: {0}\".format(reg_lasso_CV.intercept_))\n",
    "\n",
    "prediction = reg_lasso_CV.predict(X_test[0:1])\n",
    "\n",
    "print (\"Prediction for first game in test dataset: {0}\".format(prediction))\n"
   ]
  },
  {
   "cell_type": "code",
   "execution_count": 422,
   "metadata": {},
   "outputs": [
    {
     "name": "stdout",
     "output_type": "stream",
     "text": [
      "R2:0.122, MSE:405.03, RMSE:20.13\n"
     ]
    }
   ],
   "source": [
    "# model metrics\n",
    "from sklearn.linear_model import Lasso\n",
    "\n",
    "score_lasso2 = reg_lasso_CV.score(X_train2, y_train2)\n",
    "ypred_lasso2 = reg_lasso_CV.predict(X_test2)\n",
    "mse_lasso2 = mean_squared_error(y_test2, ypred_lasso2)\n",
    "print(\"R2:{0:.3f}, MSE:{1:.2f}, RMSE:{2:.2f}\"\n",
    "      .format(score_lasso2, mse_lasso2, np.sqrt(mse_lasso2)))"
   ]
  },
  {
   "cell_type": "code",
   "execution_count": 423,
   "metadata": {},
   "outputs": [
    {
     "data": {
      "image/png": "[encoded data removed]",
      "text/plain": [
       "<Figure size 576x432 with 1 Axes>"
      ]
     },
     "metadata": {
      "needs_background": "light"
     },
     "output_type": "display_data"
    }
   ],
   "source": [
    "plt.figure(figsize=(8, 6))\n",
    "xx_lasso2 = range(len(X_test2))\n",
    "plt.scatter(xx_lasso2, y_test2, s=10, color=\"b\", label=\"Original\")\n",
    "plt.plot(xx_lasso2, ypred_lasso2, lw=1, color=\"r\", label=\"Predicted\")\n",
    "plt.legend()\n",
    "plt.show()"
   ]
  },
  {
   "cell_type": "code",
   "execution_count": 424,
   "metadata": {
    "scrolled": true
   },
   "outputs": [
    {
     "data": {
      "image/png": "[encoded data removed]",
      "text/plain": [
       "<Figure size 576x432 with 1 Axes>"
      ]
     },
     "metadata": {
      "needs_background": "light"
     },
     "output_type": "display_data"
    }
   ],
   "source": [
    "for ind, i in enumerate(lambdas):    \n",
    "    reg = Lasso(alpha = i)\n",
    "    reg.fit(X_train2, y_train2)\n",
    "\n",
    "    coeff_a[ind,:] = reg.coef_\n",
    "    train_r_squared[ind] = reg.score(X_train2, y_train2)\n",
    "    test_r_squared[ind] = reg.score(X_test2, y_test2)\n",
    "\n",
    "# Plotting\n",
    "plt.figure(figsize=(8, 6))\n",
    "plt.plot(train_r_squared, 'bo-', label=r'$R^2$ Training set', color=\"darkblue\", \n",
    "         alpha=0.8, linewidth=3)\n",
    "plt.plot(test_r_squared, 'bo-', label=r'$R^2$ Test set', color=\"darkred\", \n",
    "         alpha=0.8, linewidth=3)\n",
    "plt.xlabel('Lamda index'); plt.ylabel(r'$R^2$')\n",
    "plt.xlim(0, 6)\n",
    "plt.title(r'Evaluate lasso regression with lamdas: 0 = 0.001, 1= 0.01, 2 = 0.1, 3 = 0.5, 4= 1, 5= 2, 6 = 10')\n",
    "plt.legend(loc='best')\n",
    "plt.grid()"
   ]
  },
  {
   "cell_type": "markdown",
   "metadata": {},
   "source": [
    "## 2.3. Elastic Net"
   ]
  },
  {
   "cell_type": "code",
   "execution_count": 425,
   "metadata": {},
   "outputs": [
    {
     "data": {
      "text/plain": [
       "ElasticNetCV(alphas=[0.1, 0.5, 1.0, 1.5, 1, 3, 5, 10.0], copy_X=True, cv=5,\n",
       "             eps=0.001, fit_intercept=True,\n",
       "             l1_ratio=[0.1, 0.5, 0.7, 0.9, 0.95, 0.99, 1.0], max_iter=1000,\n",
       "             n_alphas=100, n_jobs=None, normalize=False, positive=False,\n",
       "             precompute='auto', random_state=None, selection='cyclic',\n",
       "             tol=0.0001, verbose=0)"
      ]
     },
     "execution_count": 425,
     "metadata": {},
     "output_type": "execute_result"
    }
   ],
   "source": [
    "reg_elastic_net_CV.fit(X_train2, y_train2)"
   ]
  },
  {
   "cell_type": "code",
   "execution_count": 426,
   "metadata": {},
   "outputs": [
    {
     "name": "stdout",
     "output_type": "stream",
     "text": [
      "DAYS_BTWN_GAMES_x         -0.000000\n",
      "WINS_10GAMES_x             0.098086\n",
      "WINS_10GAMES_x             0.050390\n",
      "WINS_10GAMES_y            -0.015877\n",
      "WINS_10GAMES_y            -0.008325\n",
      "                             ...   \n",
      "TEAM_ABBREVIATION_y_SAC   -0.000000\n",
      "TEAM_ABBREVIATION_y_SAS   -1.879851\n",
      "TEAM_ABBREVIATION_y_TOR    0.111101\n",
      "TEAM_ABBREVIATION_y_UTA   -2.467520\n",
      "TEAM_ABBREVIATION_y_WAS    1.569982\n",
      "Length: 73, dtype: float64\n",
      "Alpha is: 0.1\n",
      "Grid of alphas used is: [10.   5.   3.   1.5  1.   1.   0.5  0.1]\n",
      "L1 ratio is: 0.5\n",
      "Intercept is: -109221.59504839193\n",
      "Prediction for first house in test dataset: [219.62606417]\n",
      "R2:0.019, MSE:414.53, RMSE:20.36\n"
     ]
    },
    {
     "data": {
      "image/png": "[encoded data removed]",
      "text/plain": [
       "<Figure size 576x432 with 1 Axes>"
      ]
     },
     "metadata": {
      "needs_background": "light"
     },
     "output_type": "display_data"
    }
   ],
   "source": [
    "# coefficients \n",
    "print(pd.Series(reg_elastic_net_CV.coef_, index = X.columns))\n",
    "\n",
    "print (\"Alpha is: {0}\".format(reg_elastic_net_CV.alpha_))\n",
    "\n",
    "print (\"Grid of alphas used is: {0}\".format(reg_elastic_net_CV.alphas_))\n",
    "\n",
    "print (\"L1 ratio is: {0}\".format(reg_elastic_net_CV.l1_ratio_))\n",
    "\n",
    "print (\"Intercept is: {0}\".format(reg_elastic_net_CV.intercept_))\n",
    "\n",
    "prediction = reg_elastic_net_CV.predict(X_test[0:1])\n",
    "\n",
    "print (\"Prediction for first house in test dataset: {0}\".format(prediction))\n",
    "\n",
    "# model metrics\n",
    "score_enet2 = reg_elastic_net_CV.score(X_test2, y_test2)\n",
    "ypred_enet2 = reg_elastic_net_CV.predict(X_test2)\n",
    "mse_enet2 = mean_squared_error(y_test2, ypred_enet2)\n",
    "print(\"R2:{0:.3f}, MSE:{1:.2f}, RMSE:{2:.2f}\"\n",
    "      .format(score_enet2, mse_enet2, np.sqrt(mse_enet2)))\n",
    "\n",
    "plt.figure(figsize=(8, 6))\n",
    "xx2 = range(len(X_test2))\n",
    "plt.scatter(xx2, y_test2, s=10, color=\"b\", label=\"Original\")\n",
    "plt.plot(xx2, ypred_enet2, lw=1, color=\"r\", label=\"Predicted\")\n",
    "plt.legend()\n",
    "plt.show()"
   ]
  },
  {
   "cell_type": "markdown",
   "metadata": {},
   "source": [
    "## 2.4. Conclusion"
   ]
  },
  {
   "cell_type": "code",
   "execution_count": 427,
   "metadata": {
    "scrolled": true
   },
   "outputs": [
    {
     "name": "stdout",
     "output_type": "stream",
     "text": [
      "Ridge(MSE):402.150, Lasso(MSE):405.03, Elastic Net(MSE):414.53\n"
     ]
    }
   ],
   "source": [
    "print(\"Ridge(MSE):{0:.3f}, Lasso(MSE):{1:.2f}, Elastic Net(MSE):{2:.2f}\"\n",
    "      .format(mse_ridge2, mse_lasso2, mse_enet2))"
   ]
  },
  {
   "cell_type": "markdown",
   "metadata": {},
   "source": [
    "## 3. Test/Training Sets by Moving-Window"
   ]
  },
  {
   "cell_type": "code",
   "execution_count": 496,
   "metadata": {},
   "outputs": [],
   "source": [
    "nba_train = nba_trans[(nba_trans['GAME_DATE'] >= '2019-01-01') & \n",
    "                      (nba_trans['GAME_DATE'] < '2019-01-14')] \n",
    "nba_test = nba_trans[(nba_trans['GAME_DATE'] >= '2019-01-14') & \n",
    "                     (nba_trans['GAME_DATE'] < '2019-01-16')] \n",
    "\n",
    "X_train3 = nba_train.drop(['GAME_DATE', 'TOT_PTS'], axis = 1)\n",
    "y_train3 = nba_train['TOT_PTS']\n",
    "\n",
    "X_test3 = nba_test.drop(['GAME_DATE', 'TOT_PTS'], axis = 1)\n",
    "y_test3 = nba_test['TOT_PTS']"
   ]
  },
  {
   "cell_type": "markdown",
   "metadata": {},
   "source": [
    "Let's make a function!\n",
    "\n",
    "### II. train on one month and use the next one month as a test set"
   ]
  },
  {
   "cell_type": "code",
   "execution_count": 497,
   "metadata": {},
   "outputs": [],
   "source": [
    "from dateutil.relativedelta import *\n",
    "from datetime import date, timedelta\n",
    "from dateutil.relativedelta import relativedelta\n",
    "import calendar\n",
    "\n",
    "#nba_trans['GAME_DATE'] = pd.to_datetime(nba_trans['GAME_DATE'])"
   ]
  },
  {
   "cell_type": "code",
   "execution_count": 498,
   "metadata": {},
   "outputs": [],
   "source": [
    "def train_function(i,j,k):\n",
    "    start_date = date(i,j,k)\n",
    "    days_in_month = calendar.monthrange(start_date.year, start_date.month)[1] # month by default\n",
    "    train_date = start_date + timedelta(days=days_in_month)\n",
    "    days_in_month2 = calendar.monthrange(train_date.year, train_date.month)[1]\n",
    "    test_date = train_date + timedelta(days=days_in_month2)\n",
    "\n",
    "    \n",
    "    nba_train = nba_trans[(nba_trans['GAME_DATE'] >= str(start_date)) & \n",
    "                          (nba_trans['GAME_DATE'] < str(train_date))] \n",
    "    nba_test = nba_trans[(nba_trans['GAME_DATE'] >= str(train_date)) & \n",
    "                     (nba_trans['GAME_DATE'] < str(test_date))] \n",
    "    \n",
    "    X_train4= nba_train.drop(['GAME_DATE', 'TOT_PTS'], axis = 1)\n",
    "    y_train4 = nba_train['TOT_PTS']\n",
    "    \n",
    "    X_test4 = nba_test.drop(['GAME_DATE', 'TOT_PTS'], axis = 1)\n",
    "    y_test4 = nba_test['TOT_PTS']\n",
    "    \n",
    "    return X_train4, y_train4, X_test4, y_test4\n",
    "        \n",
    "X_train4, y_train4, X_test4, y_test4 = train_function(2019,1,1) #year, month, day\n"
   ]
  },
  {
   "cell_type": "code",
   "execution_count": 499,
   "metadata": {},
   "outputs": [
    {
     "data": {
      "text/html": [
       "<div>\n",
       "<style scoped>\n",
       "    .dataframe tbody tr th:only-of-type {\n",
       "        vertical-align: middle;\n",
       "    }\n",
       "\n",
       "    .dataframe tbody tr th {\n",
       "        vertical-align: top;\n",
       "    }\n",
       "\n",
       "    .dataframe thead th {\n",
       "        text-align: right;\n",
       "    }\n",
       "</style>\n",
       "<table border=\"1\" class=\"dataframe\">\n",
       "  <thead>\n",
       "    <tr style=\"text-align: right;\">\n",
       "      <th></th>\n",
       "      <th>GAME_DATE</th>\n",
       "      <th>DAYS_BTWN_GAMES_x</th>\n",
       "      <th>WINS_10GAMES_x</th>\n",
       "      <th>WINS_10GAMES_x</th>\n",
       "      <th>WINS_10GAMES_x</th>\n",
       "      <th>WINS_10GAMES_x</th>\n",
       "      <th>WINS_10GAMES_x</th>\n",
       "      <th>WINS_10GAMES_x</th>\n",
       "      <th>WINS_10GAMES_x</th>\n",
       "      <th>WINS_10GAMES_x</th>\n",
       "      <th>...</th>\n",
       "      <th>TEAM_ABBREVIATION_y_OKC</th>\n",
       "      <th>TEAM_ABBREVIATION_y_ORL</th>\n",
       "      <th>TEAM_ABBREVIATION_y_PHI</th>\n",
       "      <th>TEAM_ABBREVIATION_y_PHX</th>\n",
       "      <th>TEAM_ABBREVIATION_y_POR</th>\n",
       "      <th>TEAM_ABBREVIATION_y_SAC</th>\n",
       "      <th>TEAM_ABBREVIATION_y_SAS</th>\n",
       "      <th>TEAM_ABBREVIATION_y_TOR</th>\n",
       "      <th>TEAM_ABBREVIATION_y_UTA</th>\n",
       "      <th>TEAM_ABBREVIATION_y_WAS</th>\n",
       "    </tr>\n",
       "  </thead>\n",
       "  <tbody>\n",
       "    <tr>\n",
       "      <th>9023</th>\n",
       "      <td>2019-01-01</td>\n",
       "      <td>3.0</td>\n",
       "      <td>1.0</td>\n",
       "      <td>1.0</td>\n",
       "      <td>1.0</td>\n",
       "      <td>1.0</td>\n",
       "      <td>1.0</td>\n",
       "      <td>1.0</td>\n",
       "      <td>1.0</td>\n",
       "      <td>1.0</td>\n",
       "      <td>...</td>\n",
       "      <td>0</td>\n",
       "      <td>0</td>\n",
       "      <td>0</td>\n",
       "      <td>0</td>\n",
       "      <td>0</td>\n",
       "      <td>0</td>\n",
       "      <td>0</td>\n",
       "      <td>0</td>\n",
       "      <td>0</td>\n",
       "      <td>0</td>\n",
       "    </tr>\n",
       "    <tr>\n",
       "      <th>9024</th>\n",
       "      <td>2019-01-01</td>\n",
       "      <td>3.0</td>\n",
       "      <td>1.0</td>\n",
       "      <td>1.0</td>\n",
       "      <td>1.0</td>\n",
       "      <td>1.0</td>\n",
       "      <td>1.0</td>\n",
       "      <td>1.0</td>\n",
       "      <td>1.0</td>\n",
       "      <td>1.0</td>\n",
       "      <td>...</td>\n",
       "      <td>0</td>\n",
       "      <td>0</td>\n",
       "      <td>0</td>\n",
       "      <td>0</td>\n",
       "      <td>0</td>\n",
       "      <td>0</td>\n",
       "      <td>0</td>\n",
       "      <td>0</td>\n",
       "      <td>0</td>\n",
       "      <td>0</td>\n",
       "    </tr>\n",
       "    <tr>\n",
       "      <th>9025</th>\n",
       "      <td>2019-01-01</td>\n",
       "      <td>3.0</td>\n",
       "      <td>1.0</td>\n",
       "      <td>1.0</td>\n",
       "      <td>1.0</td>\n",
       "      <td>1.0</td>\n",
       "      <td>1.0</td>\n",
       "      <td>1.0</td>\n",
       "      <td>1.0</td>\n",
       "      <td>1.0</td>\n",
       "      <td>...</td>\n",
       "      <td>0</td>\n",
       "      <td>0</td>\n",
       "      <td>0</td>\n",
       "      <td>0</td>\n",
       "      <td>0</td>\n",
       "      <td>0</td>\n",
       "      <td>0</td>\n",
       "      <td>0</td>\n",
       "      <td>0</td>\n",
       "      <td>0</td>\n",
       "    </tr>\n",
       "    <tr>\n",
       "      <th>9026</th>\n",
       "      <td>2019-01-01</td>\n",
       "      <td>2.0</td>\n",
       "      <td>5.0</td>\n",
       "      <td>5.0</td>\n",
       "      <td>5.0</td>\n",
       "      <td>5.0</td>\n",
       "      <td>5.0</td>\n",
       "      <td>5.0</td>\n",
       "      <td>5.0</td>\n",
       "      <td>5.0</td>\n",
       "      <td>...</td>\n",
       "      <td>0</td>\n",
       "      <td>0</td>\n",
       "      <td>0</td>\n",
       "      <td>0</td>\n",
       "      <td>0</td>\n",
       "      <td>0</td>\n",
       "      <td>0</td>\n",
       "      <td>0</td>\n",
       "      <td>0</td>\n",
       "      <td>0</td>\n",
       "    </tr>\n",
       "    <tr>\n",
       "      <th>9027</th>\n",
       "      <td>2019-01-01</td>\n",
       "      <td>2.0</td>\n",
       "      <td>5.0</td>\n",
       "      <td>5.0</td>\n",
       "      <td>5.0</td>\n",
       "      <td>5.0</td>\n",
       "      <td>5.0</td>\n",
       "      <td>5.0</td>\n",
       "      <td>5.0</td>\n",
       "      <td>5.0</td>\n",
       "      <td>...</td>\n",
       "      <td>0</td>\n",
       "      <td>0</td>\n",
       "      <td>0</td>\n",
       "      <td>0</td>\n",
       "      <td>0</td>\n",
       "      <td>0</td>\n",
       "      <td>0</td>\n",
       "      <td>0</td>\n",
       "      <td>0</td>\n",
       "      <td>0</td>\n",
       "    </tr>\n",
       "    <tr>\n",
       "      <th>...</th>\n",
       "      <td>...</td>\n",
       "      <td>...</td>\n",
       "      <td>...</td>\n",
       "      <td>...</td>\n",
       "      <td>...</td>\n",
       "      <td>...</td>\n",
       "      <td>...</td>\n",
       "      <td>...</td>\n",
       "      <td>...</td>\n",
       "      <td>...</td>\n",
       "      <td>...</td>\n",
       "      <td>...</td>\n",
       "      <td>...</td>\n",
       "      <td>...</td>\n",
       "      <td>...</td>\n",
       "      <td>...</td>\n",
       "      <td>...</td>\n",
       "      <td>...</td>\n",
       "      <td>...</td>\n",
       "      <td>...</td>\n",
       "      <td>...</td>\n",
       "    </tr>\n",
       "    <tr>\n",
       "      <th>9306</th>\n",
       "      <td>2019-01-13</td>\n",
       "      <td>2.0</td>\n",
       "      <td>7.0</td>\n",
       "      <td>7.0</td>\n",
       "      <td>7.0</td>\n",
       "      <td>7.0</td>\n",
       "      <td>7.0</td>\n",
       "      <td>7.0</td>\n",
       "      <td>7.0</td>\n",
       "      <td>7.0</td>\n",
       "      <td>...</td>\n",
       "      <td>0</td>\n",
       "      <td>0</td>\n",
       "      <td>0</td>\n",
       "      <td>0</td>\n",
       "      <td>0</td>\n",
       "      <td>0</td>\n",
       "      <td>0</td>\n",
       "      <td>0</td>\n",
       "      <td>0</td>\n",
       "      <td>0</td>\n",
       "    </tr>\n",
       "    <tr>\n",
       "      <th>9307</th>\n",
       "      <td>2019-01-13</td>\n",
       "      <td>2.0</td>\n",
       "      <td>7.0</td>\n",
       "      <td>7.0</td>\n",
       "      <td>7.0</td>\n",
       "      <td>7.0</td>\n",
       "      <td>7.0</td>\n",
       "      <td>7.0</td>\n",
       "      <td>7.0</td>\n",
       "      <td>7.0</td>\n",
       "      <td>...</td>\n",
       "      <td>0</td>\n",
       "      <td>0</td>\n",
       "      <td>0</td>\n",
       "      <td>0</td>\n",
       "      <td>0</td>\n",
       "      <td>0</td>\n",
       "      <td>0</td>\n",
       "      <td>0</td>\n",
       "      <td>0</td>\n",
       "      <td>0</td>\n",
       "    </tr>\n",
       "    <tr>\n",
       "      <th>9308</th>\n",
       "      <td>2019-01-13</td>\n",
       "      <td>2.0</td>\n",
       "      <td>7.0</td>\n",
       "      <td>7.0</td>\n",
       "      <td>7.0</td>\n",
       "      <td>7.0</td>\n",
       "      <td>7.0</td>\n",
       "      <td>7.0</td>\n",
       "      <td>7.0</td>\n",
       "      <td>7.0</td>\n",
       "      <td>...</td>\n",
       "      <td>0</td>\n",
       "      <td>0</td>\n",
       "      <td>0</td>\n",
       "      <td>0</td>\n",
       "      <td>0</td>\n",
       "      <td>0</td>\n",
       "      <td>0</td>\n",
       "      <td>0</td>\n",
       "      <td>0</td>\n",
       "      <td>1</td>\n",
       "    </tr>\n",
       "    <tr>\n",
       "      <th>9309</th>\n",
       "      <td>2019-01-13</td>\n",
       "      <td>2.0</td>\n",
       "      <td>7.0</td>\n",
       "      <td>7.0</td>\n",
       "      <td>7.0</td>\n",
       "      <td>7.0</td>\n",
       "      <td>7.0</td>\n",
       "      <td>7.0</td>\n",
       "      <td>7.0</td>\n",
       "      <td>7.0</td>\n",
       "      <td>...</td>\n",
       "      <td>0</td>\n",
       "      <td>0</td>\n",
       "      <td>0</td>\n",
       "      <td>0</td>\n",
       "      <td>0</td>\n",
       "      <td>0</td>\n",
       "      <td>0</td>\n",
       "      <td>0</td>\n",
       "      <td>0</td>\n",
       "      <td>1</td>\n",
       "    </tr>\n",
       "    <tr>\n",
       "      <th>9310</th>\n",
       "      <td>2019-01-13</td>\n",
       "      <td>2.0</td>\n",
       "      <td>7.0</td>\n",
       "      <td>7.0</td>\n",
       "      <td>7.0</td>\n",
       "      <td>7.0</td>\n",
       "      <td>7.0</td>\n",
       "      <td>7.0</td>\n",
       "      <td>7.0</td>\n",
       "      <td>7.0</td>\n",
       "      <td>...</td>\n",
       "      <td>0</td>\n",
       "      <td>0</td>\n",
       "      <td>0</td>\n",
       "      <td>0</td>\n",
       "      <td>0</td>\n",
       "      <td>0</td>\n",
       "      <td>0</td>\n",
       "      <td>0</td>\n",
       "      <td>0</td>\n",
       "      <td>1</td>\n",
       "    </tr>\n",
       "  </tbody>\n",
       "</table>\n",
       "<p>288 rows × 93 columns</p>\n",
       "</div>"
      ],
      "text/plain": [
       "      GAME_DATE  DAYS_BTWN_GAMES_x  WINS_10GAMES_x  WINS_10GAMES_x  \\\n",
       "9023 2019-01-01                3.0             1.0             1.0   \n",
       "9024 2019-01-01                3.0             1.0             1.0   \n",
       "9025 2019-01-01                3.0             1.0             1.0   \n",
       "9026 2019-01-01                2.0             5.0             5.0   \n",
       "9027 2019-01-01                2.0             5.0             5.0   \n",
       "...         ...                ...             ...             ...   \n",
       "9306 2019-01-13                2.0             7.0             7.0   \n",
       "9307 2019-01-13                2.0             7.0             7.0   \n",
       "9308 2019-01-13                2.0             7.0             7.0   \n",
       "9309 2019-01-13                2.0             7.0             7.0   \n",
       "9310 2019-01-13                2.0             7.0             7.0   \n",
       "\n",
       "      WINS_10GAMES_x  WINS_10GAMES_x  WINS_10GAMES_x  WINS_10GAMES_x  \\\n",
       "9023             1.0             1.0             1.0             1.0   \n",
       "9024             1.0             1.0             1.0             1.0   \n",
       "9025             1.0             1.0             1.0             1.0   \n",
       "9026             5.0             5.0             5.0             5.0   \n",
       "9027             5.0             5.0             5.0             5.0   \n",
       "...              ...             ...             ...             ...   \n",
       "9306             7.0             7.0             7.0             7.0   \n",
       "9307             7.0             7.0             7.0             7.0   \n",
       "9308             7.0             7.0             7.0             7.0   \n",
       "9309             7.0             7.0             7.0             7.0   \n",
       "9310             7.0             7.0             7.0             7.0   \n",
       "\n",
       "      WINS_10GAMES_x  WINS_10GAMES_x  ...  TEAM_ABBREVIATION_y_OKC  \\\n",
       "9023             1.0             1.0  ...                        0   \n",
       "9024             1.0             1.0  ...                        0   \n",
       "9025             1.0             1.0  ...                        0   \n",
       "9026             5.0             5.0  ...                        0   \n",
       "9027             5.0             5.0  ...                        0   \n",
       "...              ...             ...  ...                      ...   \n",
       "9306             7.0             7.0  ...                        0   \n",
       "9307             7.0             7.0  ...                        0   \n",
       "9308             7.0             7.0  ...                        0   \n",
       "9309             7.0             7.0  ...                        0   \n",
       "9310             7.0             7.0  ...                        0   \n",
       "\n",
       "      TEAM_ABBREVIATION_y_ORL  TEAM_ABBREVIATION_y_PHI  \\\n",
       "9023                        0                        0   \n",
       "9024                        0                        0   \n",
       "9025                        0                        0   \n",
       "9026                        0                        0   \n",
       "9027                        0                        0   \n",
       "...                       ...                      ...   \n",
       "9306                        0                        0   \n",
       "9307                        0                        0   \n",
       "9308                        0                        0   \n",
       "9309                        0                        0   \n",
       "9310                        0                        0   \n",
       "\n",
       "      TEAM_ABBREVIATION_y_PHX  TEAM_ABBREVIATION_y_POR  \\\n",
       "9023                        0                        0   \n",
       "9024                        0                        0   \n",
       "9025                        0                        0   \n",
       "9026                        0                        0   \n",
       "9027                        0                        0   \n",
       "...                       ...                      ...   \n",
       "9306                        0                        0   \n",
       "9307                        0                        0   \n",
       "9308                        0                        0   \n",
       "9309                        0                        0   \n",
       "9310                        0                        0   \n",
       "\n",
       "      TEAM_ABBREVIATION_y_SAC  TEAM_ABBREVIATION_y_SAS  \\\n",
       "9023                        0                        0   \n",
       "9024                        0                        0   \n",
       "9025                        0                        0   \n",
       "9026                        0                        0   \n",
       "9027                        0                        0   \n",
       "...                       ...                      ...   \n",
       "9306                        0                        0   \n",
       "9307                        0                        0   \n",
       "9308                        0                        0   \n",
       "9309                        0                        0   \n",
       "9310                        0                        0   \n",
       "\n",
       "      TEAM_ABBREVIATION_y_TOR  TEAM_ABBREVIATION_y_UTA  \\\n",
       "9023                        0                        0   \n",
       "9024                        0                        0   \n",
       "9025                        0                        0   \n",
       "9026                        0                        0   \n",
       "9027                        0                        0   \n",
       "...                       ...                      ...   \n",
       "9306                        0                        0   \n",
       "9307                        0                        0   \n",
       "9308                        0                        0   \n",
       "9309                        0                        0   \n",
       "9310                        0                        0   \n",
       "\n",
       "      TEAM_ABBREVIATION_y_WAS  \n",
       "9023                        0  \n",
       "9024                        0  \n",
       "9025                        0  \n",
       "9026                        0  \n",
       "9027                        0  \n",
       "...                       ...  \n",
       "9306                        0  \n",
       "9307                        0  \n",
       "9308                        1  \n",
       "9309                        1  \n",
       "9310                        1  \n",
       "\n",
       "[288 rows x 93 columns]"
      ]
     },
     "execution_count": 499,
     "metadata": {},
     "output_type": "execute_result"
    }
   ],
   "source": [
    "nba_train"
   ]
  },
  {
   "cell_type": "markdown",
   "metadata": {},
   "source": [
    "### II. Train on 4 weeks and use the next 2 weeks as a test set  "
   ]
  },
  {
   "cell_type": "markdown",
   "metadata": {},
   "source": [
    "This might be more flexible and fine-grained than the first function."
   ]
  },
  {
   "cell_type": "code",
   "execution_count": 500,
   "metadata": {},
   "outputs": [],
   "source": [
    "def train_function(i,j,k):\n",
    "    start_date = date(i,j,k)\n",
    "    train_date = start_date + relativedelta(weeks=+4) #weeks \n",
    "    test_date = train_date + relativedelta(weeks=+2)\n",
    "    \n",
    "    nba_train = nba_trans[(nba_trans['GAME_DATE'] >= str(start_date)) & \n",
    "                          (nba_trans['GAME_DATE'] < str(train_date))] \n",
    "    nba_test = nba_trans[(nba_trans['GAME_DATE'] >= str(train_date)) & \n",
    "                     (nba_trans['GAME_DATE'] < str(test_date))] \n",
    "    \n",
    "    X_train5= nba_train.drop(['GAME_DATE', 'TOT_PTS'], axis = 1)\n",
    "    y_train5 = nba_train['TOT_PTS']\n",
    "    \n",
    "    X_test5 = nba_test.drop(['GAME_DATE', 'TOT_PTS'], axis = 1)\n",
    "    y_test5 = nba_test['TOT_PTS']\n",
    "    \n",
    "    return X_train5, y_train5, X_test5, y_test5\n",
    "        \n",
    "X_train5, y_train5, X_test5, y_test5 = train_function(2019,1,1) #year, month, day\n"
   ]
  },
  {
   "cell_type": "code",
   "execution_count": 501,
   "metadata": {
    "scrolled": true
   },
   "outputs": [
    {
     "data": {
      "text/html": [
       "<div>\n",
       "<style scoped>\n",
       "    .dataframe tbody tr th:only-of-type {\n",
       "        vertical-align: middle;\n",
       "    }\n",
       "\n",
       "    .dataframe tbody tr th {\n",
       "        vertical-align: top;\n",
       "    }\n",
       "\n",
       "    .dataframe thead th {\n",
       "        text-align: right;\n",
       "    }\n",
       "</style>\n",
       "<table border=\"1\" class=\"dataframe\">\n",
       "  <thead>\n",
       "    <tr style=\"text-align: right;\">\n",
       "      <th></th>\n",
       "      <th>DAYS_BTWN_GAMES_x</th>\n",
       "      <th>WINS_10GAMES_x</th>\n",
       "      <th>WINS_10GAMES_x</th>\n",
       "      <th>WINS_10GAMES_x</th>\n",
       "      <th>WINS_10GAMES_x</th>\n",
       "      <th>WINS_10GAMES_x</th>\n",
       "      <th>WINS_10GAMES_x</th>\n",
       "      <th>WINS_10GAMES_x</th>\n",
       "      <th>WINS_10GAMES_x</th>\n",
       "      <th>WINS_10GAMES_y</th>\n",
       "      <th>...</th>\n",
       "      <th>TEAM_ABBREVIATION_y_OKC</th>\n",
       "      <th>TEAM_ABBREVIATION_y_ORL</th>\n",
       "      <th>TEAM_ABBREVIATION_y_PHI</th>\n",
       "      <th>TEAM_ABBREVIATION_y_PHX</th>\n",
       "      <th>TEAM_ABBREVIATION_y_POR</th>\n",
       "      <th>TEAM_ABBREVIATION_y_SAC</th>\n",
       "      <th>TEAM_ABBREVIATION_y_SAS</th>\n",
       "      <th>TEAM_ABBREVIATION_y_TOR</th>\n",
       "      <th>TEAM_ABBREVIATION_y_UTA</th>\n",
       "      <th>TEAM_ABBREVIATION_y_WAS</th>\n",
       "    </tr>\n",
       "  </thead>\n",
       "  <tbody>\n",
       "    <tr>\n",
       "      <th>9023</th>\n",
       "      <td>3.0</td>\n",
       "      <td>1.0</td>\n",
       "      <td>1.0</td>\n",
       "      <td>1.0</td>\n",
       "      <td>1.0</td>\n",
       "      <td>1.0</td>\n",
       "      <td>1.0</td>\n",
       "      <td>1.0</td>\n",
       "      <td>1.0</td>\n",
       "      <td>6.0</td>\n",
       "      <td>...</td>\n",
       "      <td>0</td>\n",
       "      <td>0</td>\n",
       "      <td>0</td>\n",
       "      <td>0</td>\n",
       "      <td>0</td>\n",
       "      <td>0</td>\n",
       "      <td>0</td>\n",
       "      <td>0</td>\n",
       "      <td>0</td>\n",
       "      <td>0</td>\n",
       "    </tr>\n",
       "    <tr>\n",
       "      <th>9024</th>\n",
       "      <td>3.0</td>\n",
       "      <td>1.0</td>\n",
       "      <td>1.0</td>\n",
       "      <td>1.0</td>\n",
       "      <td>1.0</td>\n",
       "      <td>1.0</td>\n",
       "      <td>1.0</td>\n",
       "      <td>1.0</td>\n",
       "      <td>1.0</td>\n",
       "      <td>6.0</td>\n",
       "      <td>...</td>\n",
       "      <td>0</td>\n",
       "      <td>0</td>\n",
       "      <td>0</td>\n",
       "      <td>0</td>\n",
       "      <td>0</td>\n",
       "      <td>0</td>\n",
       "      <td>0</td>\n",
       "      <td>0</td>\n",
       "      <td>0</td>\n",
       "      <td>0</td>\n",
       "    </tr>\n",
       "    <tr>\n",
       "      <th>9025</th>\n",
       "      <td>3.0</td>\n",
       "      <td>1.0</td>\n",
       "      <td>1.0</td>\n",
       "      <td>1.0</td>\n",
       "      <td>1.0</td>\n",
       "      <td>1.0</td>\n",
       "      <td>1.0</td>\n",
       "      <td>1.0</td>\n",
       "      <td>1.0</td>\n",
       "      <td>6.0</td>\n",
       "      <td>...</td>\n",
       "      <td>0</td>\n",
       "      <td>0</td>\n",
       "      <td>0</td>\n",
       "      <td>0</td>\n",
       "      <td>0</td>\n",
       "      <td>0</td>\n",
       "      <td>0</td>\n",
       "      <td>0</td>\n",
       "      <td>0</td>\n",
       "      <td>0</td>\n",
       "    </tr>\n",
       "    <tr>\n",
       "      <th>9026</th>\n",
       "      <td>2.0</td>\n",
       "      <td>5.0</td>\n",
       "      <td>5.0</td>\n",
       "      <td>5.0</td>\n",
       "      <td>5.0</td>\n",
       "      <td>5.0</td>\n",
       "      <td>5.0</td>\n",
       "      <td>5.0</td>\n",
       "      <td>5.0</td>\n",
       "      <td>4.0</td>\n",
       "      <td>...</td>\n",
       "      <td>0</td>\n",
       "      <td>0</td>\n",
       "      <td>0</td>\n",
       "      <td>0</td>\n",
       "      <td>0</td>\n",
       "      <td>0</td>\n",
       "      <td>0</td>\n",
       "      <td>0</td>\n",
       "      <td>0</td>\n",
       "      <td>0</td>\n",
       "    </tr>\n",
       "    <tr>\n",
       "      <th>9027</th>\n",
       "      <td>2.0</td>\n",
       "      <td>5.0</td>\n",
       "      <td>5.0</td>\n",
       "      <td>5.0</td>\n",
       "      <td>5.0</td>\n",
       "      <td>5.0</td>\n",
       "      <td>5.0</td>\n",
       "      <td>5.0</td>\n",
       "      <td>5.0</td>\n",
       "      <td>4.0</td>\n",
       "      <td>...</td>\n",
       "      <td>0</td>\n",
       "      <td>0</td>\n",
       "      <td>0</td>\n",
       "      <td>0</td>\n",
       "      <td>0</td>\n",
       "      <td>0</td>\n",
       "      <td>0</td>\n",
       "      <td>0</td>\n",
       "      <td>0</td>\n",
       "      <td>0</td>\n",
       "    </tr>\n",
       "    <tr>\n",
       "      <th>...</th>\n",
       "      <td>...</td>\n",
       "      <td>...</td>\n",
       "      <td>...</td>\n",
       "      <td>...</td>\n",
       "      <td>...</td>\n",
       "      <td>...</td>\n",
       "      <td>...</td>\n",
       "      <td>...</td>\n",
       "      <td>...</td>\n",
       "      <td>...</td>\n",
       "      <td>...</td>\n",
       "      <td>...</td>\n",
       "      <td>...</td>\n",
       "      <td>...</td>\n",
       "      <td>...</td>\n",
       "      <td>...</td>\n",
       "      <td>...</td>\n",
       "      <td>...</td>\n",
       "      <td>...</td>\n",
       "      <td>...</td>\n",
       "      <td>...</td>\n",
       "    </tr>\n",
       "    <tr>\n",
       "      <th>9618</th>\n",
       "      <td>3.0</td>\n",
       "      <td>8.0</td>\n",
       "      <td>8.0</td>\n",
       "      <td>8.0</td>\n",
       "      <td>8.0</td>\n",
       "      <td>8.0</td>\n",
       "      <td>8.0</td>\n",
       "      <td>8.0</td>\n",
       "      <td>8.0</td>\n",
       "      <td>6.0</td>\n",
       "      <td>...</td>\n",
       "      <td>0</td>\n",
       "      <td>0</td>\n",
       "      <td>0</td>\n",
       "      <td>0</td>\n",
       "      <td>0</td>\n",
       "      <td>0</td>\n",
       "      <td>0</td>\n",
       "      <td>0</td>\n",
       "      <td>0</td>\n",
       "      <td>0</td>\n",
       "    </tr>\n",
       "    <tr>\n",
       "      <th>9619</th>\n",
       "      <td>3.0</td>\n",
       "      <td>8.0</td>\n",
       "      <td>8.0</td>\n",
       "      <td>8.0</td>\n",
       "      <td>8.0</td>\n",
       "      <td>8.0</td>\n",
       "      <td>8.0</td>\n",
       "      <td>8.0</td>\n",
       "      <td>8.0</td>\n",
       "      <td>6.0</td>\n",
       "      <td>...</td>\n",
       "      <td>0</td>\n",
       "      <td>0</td>\n",
       "      <td>0</td>\n",
       "      <td>0</td>\n",
       "      <td>0</td>\n",
       "      <td>0</td>\n",
       "      <td>0</td>\n",
       "      <td>0</td>\n",
       "      <td>0</td>\n",
       "      <td>0</td>\n",
       "    </tr>\n",
       "    <tr>\n",
       "      <th>9620</th>\n",
       "      <td>1.0</td>\n",
       "      <td>1.0</td>\n",
       "      <td>1.0</td>\n",
       "      <td>1.0</td>\n",
       "      <td>1.0</td>\n",
       "      <td>1.0</td>\n",
       "      <td>1.0</td>\n",
       "      <td>1.0</td>\n",
       "      <td>1.0</td>\n",
       "      <td>5.0</td>\n",
       "      <td>...</td>\n",
       "      <td>0</td>\n",
       "      <td>0</td>\n",
       "      <td>0</td>\n",
       "      <td>0</td>\n",
       "      <td>0</td>\n",
       "      <td>0</td>\n",
       "      <td>0</td>\n",
       "      <td>0</td>\n",
       "      <td>0</td>\n",
       "      <td>0</td>\n",
       "    </tr>\n",
       "    <tr>\n",
       "      <th>9621</th>\n",
       "      <td>1.0</td>\n",
       "      <td>1.0</td>\n",
       "      <td>1.0</td>\n",
       "      <td>1.0</td>\n",
       "      <td>1.0</td>\n",
       "      <td>1.0</td>\n",
       "      <td>1.0</td>\n",
       "      <td>1.0</td>\n",
       "      <td>1.0</td>\n",
       "      <td>5.0</td>\n",
       "      <td>...</td>\n",
       "      <td>0</td>\n",
       "      <td>0</td>\n",
       "      <td>0</td>\n",
       "      <td>0</td>\n",
       "      <td>0</td>\n",
       "      <td>0</td>\n",
       "      <td>0</td>\n",
       "      <td>0</td>\n",
       "      <td>0</td>\n",
       "      <td>0</td>\n",
       "    </tr>\n",
       "    <tr>\n",
       "      <th>9622</th>\n",
       "      <td>1.0</td>\n",
       "      <td>1.0</td>\n",
       "      <td>1.0</td>\n",
       "      <td>1.0</td>\n",
       "      <td>1.0</td>\n",
       "      <td>1.0</td>\n",
       "      <td>1.0</td>\n",
       "      <td>1.0</td>\n",
       "      <td>1.0</td>\n",
       "      <td>5.0</td>\n",
       "      <td>...</td>\n",
       "      <td>0</td>\n",
       "      <td>0</td>\n",
       "      <td>0</td>\n",
       "      <td>0</td>\n",
       "      <td>0</td>\n",
       "      <td>0</td>\n",
       "      <td>0</td>\n",
       "      <td>0</td>\n",
       "      <td>0</td>\n",
       "      <td>0</td>\n",
       "    </tr>\n",
       "  </tbody>\n",
       "</table>\n",
       "<p>600 rows × 91 columns</p>\n",
       "</div>"
      ],
      "text/plain": [
       "      DAYS_BTWN_GAMES_x  WINS_10GAMES_x  WINS_10GAMES_x  WINS_10GAMES_x  \\\n",
       "9023                3.0             1.0             1.0             1.0   \n",
       "9024                3.0             1.0             1.0             1.0   \n",
       "9025                3.0             1.0             1.0             1.0   \n",
       "9026                2.0             5.0             5.0             5.0   \n",
       "9027                2.0             5.0             5.0             5.0   \n",
       "...                 ...             ...             ...             ...   \n",
       "9618                3.0             8.0             8.0             8.0   \n",
       "9619                3.0             8.0             8.0             8.0   \n",
       "9620                1.0             1.0             1.0             1.0   \n",
       "9621                1.0             1.0             1.0             1.0   \n",
       "9622                1.0             1.0             1.0             1.0   \n",
       "\n",
       "      WINS_10GAMES_x  WINS_10GAMES_x  WINS_10GAMES_x  WINS_10GAMES_x  \\\n",
       "9023             1.0             1.0             1.0             1.0   \n",
       "9024             1.0             1.0             1.0             1.0   \n",
       "9025             1.0             1.0             1.0             1.0   \n",
       "9026             5.0             5.0             5.0             5.0   \n",
       "9027             5.0             5.0             5.0             5.0   \n",
       "...              ...             ...             ...             ...   \n",
       "9618             8.0             8.0             8.0             8.0   \n",
       "9619             8.0             8.0             8.0             8.0   \n",
       "9620             1.0             1.0             1.0             1.0   \n",
       "9621             1.0             1.0             1.0             1.0   \n",
       "9622             1.0             1.0             1.0             1.0   \n",
       "\n",
       "      WINS_10GAMES_x  WINS_10GAMES_y  ...  TEAM_ABBREVIATION_y_OKC  \\\n",
       "9023             1.0             6.0  ...                        0   \n",
       "9024             1.0             6.0  ...                        0   \n",
       "9025             1.0             6.0  ...                        0   \n",
       "9026             5.0             4.0  ...                        0   \n",
       "9027             5.0             4.0  ...                        0   \n",
       "...              ...             ...  ...                      ...   \n",
       "9618             8.0             6.0  ...                        0   \n",
       "9619             8.0             6.0  ...                        0   \n",
       "9620             1.0             5.0  ...                        0   \n",
       "9621             1.0             5.0  ...                        0   \n",
       "9622             1.0             5.0  ...                        0   \n",
       "\n",
       "      TEAM_ABBREVIATION_y_ORL  TEAM_ABBREVIATION_y_PHI  \\\n",
       "9023                        0                        0   \n",
       "9024                        0                        0   \n",
       "9025                        0                        0   \n",
       "9026                        0                        0   \n",
       "9027                        0                        0   \n",
       "...                       ...                      ...   \n",
       "9618                        0                        0   \n",
       "9619                        0                        0   \n",
       "9620                        0                        0   \n",
       "9621                        0                        0   \n",
       "9622                        0                        0   \n",
       "\n",
       "      TEAM_ABBREVIATION_y_PHX  TEAM_ABBREVIATION_y_POR  \\\n",
       "9023                        0                        0   \n",
       "9024                        0                        0   \n",
       "9025                        0                        0   \n",
       "9026                        0                        0   \n",
       "9027                        0                        0   \n",
       "...                       ...                      ...   \n",
       "9618                        0                        0   \n",
       "9619                        0                        0   \n",
       "9620                        0                        0   \n",
       "9621                        0                        0   \n",
       "9622                        0                        0   \n",
       "\n",
       "      TEAM_ABBREVIATION_y_SAC  TEAM_ABBREVIATION_y_SAS  \\\n",
       "9023                        0                        0   \n",
       "9024                        0                        0   \n",
       "9025                        0                        0   \n",
       "9026                        0                        0   \n",
       "9027                        0                        0   \n",
       "...                       ...                      ...   \n",
       "9618                        0                        0   \n",
       "9619                        0                        0   \n",
       "9620                        0                        0   \n",
       "9621                        0                        0   \n",
       "9622                        0                        0   \n",
       "\n",
       "      TEAM_ABBREVIATION_y_TOR  TEAM_ABBREVIATION_y_UTA  \\\n",
       "9023                        0                        0   \n",
       "9024                        0                        0   \n",
       "9025                        0                        0   \n",
       "9026                        0                        0   \n",
       "9027                        0                        0   \n",
       "...                       ...                      ...   \n",
       "9618                        0                        0   \n",
       "9619                        0                        0   \n",
       "9620                        0                        0   \n",
       "9621                        0                        0   \n",
       "9622                        0                        0   \n",
       "\n",
       "      TEAM_ABBREVIATION_y_WAS  \n",
       "9023                        0  \n",
       "9024                        0  \n",
       "9025                        0  \n",
       "9026                        0  \n",
       "9027                        0  \n",
       "...                       ...  \n",
       "9618                        0  \n",
       "9619                        0  \n",
       "9620                        0  \n",
       "9621                        0  \n",
       "9622                        0  \n",
       "\n",
       "[600 rows x 91 columns]"
      ]
     },
     "execution_count": 501,
     "metadata": {},
     "output_type": "execute_result"
    }
   ],
   "source": [
    "X_train5"
   ]
  },
  {
   "cell_type": "code",
   "execution_count": 502,
   "metadata": {},
   "outputs": [
    {
     "data": {
      "text/plain": [
       "9023    223\n",
       "9024    223\n",
       "9025    223\n",
       "9026    232\n",
       "9027    232\n",
       "       ... \n",
       "9618    216\n",
       "9619    216\n",
       "9620    193\n",
       "9621    193\n",
       "9622    193\n",
       "Name: TOT_PTS, Length: 600, dtype: int64"
      ]
     },
     "execution_count": 502,
     "metadata": {},
     "output_type": "execute_result"
    }
   ],
   "source": [
    "y_train5"
   ]
  },
  {
   "cell_type": "markdown",
   "metadata": {},
   "source": [
    "### III. If we want to indicate specific windows by hand..."
   ]
  },
  {
   "cell_type": "code",
   "execution_count": 503,
   "metadata": {},
   "outputs": [],
   "source": [
    "def train_function(i,j,k):\n",
    "    nba_train = nba_trans[(nba_trans['GAME_DATE'] >= i) & \n",
    "                          (nba_trans['GAME_DATE'] < j)] \n",
    "    nba_test = nba_trans[(nba_trans['GAME_DATE'] >= j) & \n",
    "                         (nba_trans['GAME_DATE'] < k)] \n",
    "    \n",
    "    X_train5 = nba_train.drop(['GAME_DATE', 'TOT_PTS'], axis = 1)\n",
    "    y_train5 = nba_train['TOT_PTS']\n",
    "    \n",
    "    X_test5 = nba_test.drop(['GAME_DATE', 'TOT_PTS'], axis = 1)\n",
    "    y_test5 = nba_test['TOT_PTS']\n",
    "    \n",
    "    return X_train5, y_train5, X_test5, y_test5\n",
    "        \n",
    "X_train5, y_train5,X_test5, y_test5 = train_function('2019-01-01','2019-01-14', '2019-01-16') # specific dates \n"
   ]
  },
  {
   "cell_type": "markdown",
   "metadata": {},
   "source": [
    "## 3.1. Ridge"
   ]
  },
  {
   "cell_type": "code",
   "execution_count": 445,
   "metadata": {
    "scrolled": false
   },
   "outputs": [
    {
     "data": {
      "text/plain": [
       "RidgeCV(alphas=array([ 0.1,  0.2,  0.3,  0.4,  0.5,  0.6,  0.7,  0.8,  0.9,  1. ,  1.1,\n",
       "        1.2,  1.3,  1.4,  1.5,  1.6,  1.7,  1.8,  1.9,  2. ,  2.1,  2.2,\n",
       "        2.3,  2.4,  2.5,  2.6,  2.7,  2.8,  2.9,  3. ,  3.1,  3.2,  3.3,\n",
       "        3.4,  3.5,  3.6,  3.7,  3.8,  3.9,  4. ,  4.1,  4.2,  4.3,  4.4,\n",
       "        4.5,  4.6,  4.7,  4.8,  4.9,  5. ,  5.1,  5.2,  5.3,  5.4,  5.5,\n",
       "        5.6,  5.7,  5.8,  5.9,  6. ,  6.1,  6.2,  6.3,  6.4,  6.5,  6.6,\n",
       "        6.7,  6.8,  6.9,  7. ,  7.1,  7.2,  7.3,  7.4,  7.5,  7.6,  7.7,\n",
       "        7.8,  7.9,  8. ,  8.1,  8.2,  8.3,  8.4,  8.5,  8.6,  8.7,  8.8,\n",
       "        8.9,  9. ,  9.1,  9.2,  9.3,  9.4,  9.5,  9.6,  9.7,  9.8,  9.9,\n",
       "       10. ]),\n",
       "        cv=5, fit_intercept=True, gcv_mode=None, normalize=False, scoring=None,\n",
       "        store_cv_values=False)"
      ]
     },
     "execution_count": 445,
     "metadata": {},
     "output_type": "execute_result"
    }
   ],
   "source": [
    "reg_CV.fit(X_train3, y_train3)"
   ]
  },
  {
   "cell_type": "code",
   "execution_count": 446,
   "metadata": {},
   "outputs": [
    {
     "name": "stdout",
     "output_type": "stream",
     "text": [
      "DAYS_BTWN_GAMES_x          5.871725\n",
      "WINS_10GAMES_x             0.067539\n",
      "WINS_10GAMES_x             0.067539\n",
      "WINS_10GAMES_y             0.783876\n",
      "WINS_10GAMES_y             0.783876\n",
      "                             ...   \n",
      "TEAM_ABBREVIATION_y_SAC    3.804430\n",
      "TEAM_ABBREVIATION_y_SAS    6.102438\n",
      "TEAM_ABBREVIATION_y_TOR   -3.862360\n",
      "TEAM_ABBREVIATION_y_UTA   -6.445046\n",
      "TEAM_ABBREVIATION_y_WAS    4.561288\n",
      "Length: 73, dtype: float64\n"
     ]
    }
   ],
   "source": [
    "# coefficients \n",
    "print(pd.Series(reg_CV.coef_, index = X.columns))"
   ]
  },
  {
   "cell_type": "code",
   "execution_count": 447,
   "metadata": {},
   "outputs": [
    {
     "name": "stdout",
     "output_type": "stream",
     "text": [
      "Intercept is: 187.22661200656017\n",
      "Prediction for first game in test dataset: [218.26498137]\n"
     ]
    }
   ],
   "source": [
    "print (\"Intercept is: {0}\".format(reg_CV.intercept_))\n",
    "print (\"Prediction for first game in test dataset: {0}\".format(reg_CV.predict(X_test[0:1])))"
   ]
  },
  {
   "cell_type": "code",
   "execution_count": 448,
   "metadata": {},
   "outputs": [
    {
     "name": "stdout",
     "output_type": "stream",
     "text": [
      "R2:0.498, MSE:393.14, RMSE:19.83\n"
     ]
    }
   ],
   "source": [
    "# model metrics\n",
    "score_ridge3 = reg_CV.score(X_train3, y_train3)\n",
    "ypred_ridge3 = reg_CV.predict(X_test3)\n",
    "mse_ridge3 = mean_squared_error(y_test3, ypred_ridge3)\n",
    "print(\"R2:{0:.3f}, MSE:{1:.2f}, RMSE:{2:.2f}\"\n",
    "      .format(score_ridge3, mse_ridge3, np.sqrt(mse_ridge3)))"
   ]
  },
  {
   "cell_type": "code",
   "execution_count": 449,
   "metadata": {},
   "outputs": [
    {
     "data": {
      "image/png": "[encoded data removed]",
      "text/plain": [
       "<Figure size 576x432 with 1 Axes>"
      ]
     },
     "metadata": {
      "needs_background": "light"
     },
     "output_type": "display_data"
    }
   ],
   "source": [
    "plt.figure(figsize=(8, 6))\n",
    "xx_ridge3 = range(len(X_test3))\n",
    "plt.scatter(xx_ridge3, y_test3, s=10, color=\"b\", label=\"Original\")\n",
    "plt.plot(xx_ridge3, ypred_ridge3, lw=1, color=\"r\", label=\"Predicted\")\n",
    "plt.legend()\n",
    "plt.show()"
   ]
  },
  {
   "cell_type": "code",
   "execution_count": 450,
   "metadata": {
    "scrolled": true
   },
   "outputs": [
    {
     "data": {
      "image/png": "[encoded data removed]",
      "text/plain": [
       "<Figure size 576x432 with 1 Axes>"
      ]
     },
     "metadata": {
      "needs_background": "light"
     },
     "output_type": "display_data"
    }
   ],
   "source": [
    "for ind, i in enumerate(lambdas):    \n",
    "    reg = Ridge(alpha = i)\n",
    "    reg.fit(X_train3, y_train3)\n",
    "\n",
    "    coeff_a[ind,:] = reg.coef_\n",
    "    train_r_squared[ind] = reg.score(X_train3, y_train3)\n",
    "    test_r_squared[ind] = reg.score(X_test3, y_test3)\n",
    "    \n",
    "# Plotting\n",
    "plt.figure(figsize=(8, 6))\n",
    "plt.plot(train_r_squared, 'bo-', label=r'$R^2$ Training set', color=\"darkblue\", \n",
    "         alpha=0.8, linewidth=3)\n",
    "plt.plot(test_r_squared, 'bo-', label=r'$R^2$ Test set', color=\"darkred\", \n",
    "         alpha=0.8, linewidth=3)\n",
    "plt.xlabel('Lamda index'); plt.ylabel(r'$R^2$')\n",
    "plt.xlim(0, 6)\n",
    "plt.title(r'Evaluate lasso regression with lamdas: 0 = 0.001, 1= 0.01, 2 = 0.1, 3 = 0.5, 4= 1, 5= 2, 6 = 10')\n",
    "plt.legend(loc='best')\n",
    "plt.grid()"
   ]
  },
  {
   "cell_type": "markdown",
   "metadata": {},
   "source": [
    "## 3.2. Lasso"
   ]
  },
  {
   "cell_type": "code",
   "execution_count": 451,
   "metadata": {
    "scrolled": false
   },
   "outputs": [
    {
     "data": {
      "text/plain": [
       "LassoCV(alphas=[0.1, 1.0, 10.0], copy_X=True, cv=5, eps=0.001,\n",
       "        fit_intercept=True, max_iter=1000, n_alphas=100, n_jobs=None,\n",
       "        normalize=False, positive=False, precompute='auto', random_state=None,\n",
       "        selection='cyclic', tol=0.0001, verbose=False)"
      ]
     },
     "execution_count": 451,
     "metadata": {},
     "output_type": "execute_result"
    }
   ],
   "source": [
    "reg_lasso_CV.fit(X_train3, y_train3)"
   ]
  },
  {
   "cell_type": "code",
   "execution_count": 452,
   "metadata": {},
   "outputs": [
    {
     "name": "stdout",
     "output_type": "stream",
     "text": [
      "DAYS_BTWN_GAMES_x          0.0\n",
      "WINS_10GAMES_x             0.0\n",
      "WINS_10GAMES_x             0.0\n",
      "WINS_10GAMES_y             0.0\n",
      "WINS_10GAMES_y             0.0\n",
      "                          ... \n",
      "TEAM_ABBREVIATION_y_SAC   -0.0\n",
      "TEAM_ABBREVIATION_y_SAS    0.0\n",
      "TEAM_ABBREVIATION_y_TOR    0.0\n",
      "TEAM_ABBREVIATION_y_UTA   -0.0\n",
      "TEAM_ABBREVIATION_y_WAS    0.0\n",
      "Length: 73, dtype: float64\n",
      "Alpha is: 10.0\n",
      "Intercept is: 205.89513629962906\n",
      "Prediction for first game in test dataset: [217.44287669]\n"
     ]
    }
   ],
   "source": [
    "# coefficients \n",
    "print(pd.Series(reg_lasso_CV.coef_, index = X.columns))\n",
    "\n",
    "print (\"Alpha is: {0}\".format(reg_lasso_CV.alpha_))\n",
    "\n",
    "print (\"Intercept is: {0}\".format(reg_lasso_CV.intercept_))\n",
    "\n",
    "prediction = reg_lasso_CV.predict(X_test[0:1])\n",
    "\n",
    "print (\"Prediction for first game in test dataset: {0}\".format(prediction))\n"
   ]
  },
  {
   "cell_type": "code",
   "execution_count": 453,
   "metadata": {},
   "outputs": [
    {
     "name": "stdout",
     "output_type": "stream",
     "text": [
      "R2:0.048, MSE:498.07, RMSE:22.32\n"
     ]
    }
   ],
   "source": [
    "# model metrics\n",
    "from sklearn.linear_model import Lasso\n",
    "\n",
    "score_lasso3 = reg_lasso_CV.score(X_train3, y_train3)\n",
    "ypred_lasso3 = reg_lasso_CV.predict(X_test3)\n",
    "mse_lasso3 = mean_squared_error(y_test3, ypred_lasso3)\n",
    "print(\"R2:{0:.3f}, MSE:{1:.2f}, RMSE:{2:.2f}\"\n",
    "      .format(score_lasso3, mse_lasso3, np.sqrt(mse_lasso3)))"
   ]
  },
  {
   "cell_type": "code",
   "execution_count": 454,
   "metadata": {},
   "outputs": [
    {
     "data": {
      "image/png": "[encoded data removed]",
      "text/plain": [
       "<Figure size 576x432 with 1 Axes>"
      ]
     },
     "metadata": {
      "needs_background": "light"
     },
     "output_type": "display_data"
    }
   ],
   "source": [
    "plt.figure(figsize=(8, 6))\n",
    "xx_lasso3 = range(len(X_test3))\n",
    "plt.scatter(xx_lasso3, y_test3, s=10, color=\"b\", label=\"Original\")\n",
    "plt.plot(xx_lasso3, ypred_lasso3, lw=1, color=\"r\", label=\"Predicted\")\n",
    "plt.legend()\n",
    "plt.show()"
   ]
  },
  {
   "cell_type": "code",
   "execution_count": 455,
   "metadata": {
    "scrolled": true
   },
   "outputs": [
    {
     "data": {
      "image/png": "[encoded data removed]",
      "text/plain": [
       "<Figure size 576x432 with 1 Axes>"
      ]
     },
     "metadata": {
      "needs_background": "light"
     },
     "output_type": "display_data"
    }
   ],
   "source": [
    "for ind, i in enumerate(lambdas):    \n",
    "    reg = Lasso(alpha = i)\n",
    "    reg.fit(X_train3, y_train3)\n",
    "\n",
    "    coeff_a[ind,:] = reg.coef_\n",
    "    train_r_squared[ind] = reg.score(X_train3, y_train3)\n",
    "    test_r_squared[ind] = reg.score(X_test3, y_test3)\n",
    "\n",
    "# Plotting\n",
    "plt.figure(figsize=(8, 6))\n",
    "plt.plot(train_r_squared, 'bo-', label=r'$R^2$ Training set', color=\"darkblue\", \n",
    "         alpha=0.8, linewidth=3)\n",
    "plt.plot(test_r_squared, 'bo-', label=r'$R^2$ Test set', color=\"darkred\", \n",
    "         alpha=0.8, linewidth=3)\n",
    "plt.xlabel('Lamda index'); plt.ylabel(r'$R^2$')\n",
    "plt.xlim(0, 6)\n",
    "plt.title(r'Evaluate lasso regression with lamdas: 0 = 0.001, 1= 0.01, 2 = 0.1, 3 = 0.5, 4= 1, 5= 2, 6 = 10')\n",
    "plt.legend(loc='best')\n",
    "plt.grid()"
   ]
  },
  {
   "cell_type": "markdown",
   "metadata": {},
   "source": [
    "## 3.3. Elastic Net"
   ]
  },
  {
   "cell_type": "code",
   "execution_count": 504,
   "metadata": {},
   "outputs": [
    {
     "name": "stderr",
     "output_type": "stream",
     "text": [
      "/opt/anaconda3/lib/python3.7/site-packages/sklearn/linear_model/_coordinate_descent.py:472: ConvergenceWarning: Objective did not converge. You might want to increase the number of iterations. Duality gap: 125.05763251534518, tolerance: 9.798296086956523\n",
      "  tol, rng, random, positive)\n",
      "/opt/anaconda3/lib/python3.7/site-packages/sklearn/linear_model/_coordinate_descent.py:472: ConvergenceWarning: Objective did not converge. You might want to increase the number of iterations. Duality gap: 23.263919428325607, tolerance: 8.994897391304349\n",
      "  tol, rng, random, positive)\n",
      "/opt/anaconda3/lib/python3.7/site-packages/sklearn/linear_model/_coordinate_descent.py:472: ConvergenceWarning: Objective did not converge. You might want to increase the number of iterations. Duality gap: 24.68401002628525, tolerance: 9.798296086956523\n",
      "  tol, rng, random, positive)\n",
      "/opt/anaconda3/lib/python3.7/site-packages/sklearn/linear_model/_coordinate_descent.py:472: ConvergenceWarning: Objective did not converge. You might want to increase the number of iterations. Duality gap: 47.96105897990856, tolerance: 8.994897391304349\n",
      "  tol, rng, random, positive)\n",
      "/opt/anaconda3/lib/python3.7/site-packages/sklearn/linear_model/_coordinate_descent.py:472: ConvergenceWarning: Objective did not converge. You might want to increase the number of iterations. Duality gap: 34.44934743703561, tolerance: 8.994897391304349\n",
      "  tol, rng, random, positive)\n"
     ]
    },
    {
     "data": {
      "text/plain": [
       "ElasticNetCV(alphas=[0.1, 0.5, 1.0, 1.5, 1, 3, 5, 10.0], copy_X=True, cv=5,\n",
       "             eps=0.001, fit_intercept=True,\n",
       "             l1_ratio=[0.1, 0.5, 0.7, 0.9, 0.95, 0.99, 1.0], max_iter=1000,\n",
       "             n_alphas=100, n_jobs=None, normalize=False, positive=False,\n",
       "             precompute='auto', random_state=None, selection='cyclic',\n",
       "             tol=0.0001, verbose=0)"
      ]
     },
     "execution_count": 504,
     "metadata": {},
     "output_type": "execute_result"
    }
   ],
   "source": [
    "reg_elastic_net_CV.fit(X_train3, y_train3)"
   ]
  },
  {
   "cell_type": "code",
   "execution_count": 505,
   "metadata": {},
   "outputs": [
    {
     "name": "stdout",
     "output_type": "stream",
     "text": [
      "DAYS_BTWN_GAMES_x          0.0\n",
      "WINS_10GAMES_x             0.0\n",
      "WINS_10GAMES_x             0.0\n",
      "WINS_10GAMES_x             0.0\n",
      "WINS_10GAMES_x             0.0\n",
      "                          ... \n",
      "TEAM_ABBREVIATION_y_SAC   -0.0\n",
      "TEAM_ABBREVIATION_y_SAS    0.0\n",
      "TEAM_ABBREVIATION_y_TOR    0.0\n",
      "TEAM_ABBREVIATION_y_UTA   -0.0\n",
      "TEAM_ABBREVIATION_y_WAS    0.0\n",
      "Length: 91, dtype: float64\n",
      "Alpha is: 10.0\n",
      "Grid of alphas used is: [10.   5.   3.   1.5  1.   1.   0.5  0.1]\n",
      "L1 ratio is: 1.0\n",
      "Intercept is: 205.89513629962906\n",
      "Prediction for first house in test dataset: [217.44287669]\n"
     ]
    }
   ],
   "source": [
    "# coefficients \n",
    "print(pd.Series(reg_elastic_net_CV.coef_, index = X.columns))\n",
    "\n",
    "print (\"Alpha is: {0}\".format(reg_elastic_net_CV.alpha_))\n",
    "\n",
    "print (\"Grid of alphas used is: {0}\".format(reg_elastic_net_CV.alphas_))\n",
    "\n",
    "print (\"L1 ratio is: {0}\".format(reg_elastic_net_CV.l1_ratio_))\n",
    "\n",
    "print (\"Intercept is: {0}\".format(reg_elastic_net_CV.intercept_))\n",
    "\n",
    "prediction = reg_elastic_net_CV.predict(X_test[0:1])\n",
    "\n",
    "print (\"Prediction for first house in test dataset: {0}\".format(prediction))\n",
    "\n"
   ]
  },
  {
   "cell_type": "code",
   "execution_count": 460,
   "metadata": {},
   "outputs": [
    {
     "name": "stdout",
     "output_type": "stream",
     "text": [
      "R2:0.043, MSE:511.99, RMSE:22.63\n"
     ]
    }
   ],
   "source": [
    "# model metrics\n",
    "score_enet3 = reg_elastic_net_CV.score(X_test3, y_test3)\n",
    "ypred_enet3 = reg_elastic_net_CV.predict(X_test3)\n",
    "mse_enet3 = mean_squared_error(y_test3, ypred_enet3)\n",
    "print(\"R2:{0:.3f}, MSE:{1:.2f}, RMSE:{2:.2f}\"\n",
    "      .format(score_enet3, mse_enet3, np.sqrt(mse_enet3)))"
   ]
  },
  {
   "cell_type": "code",
   "execution_count": 461,
   "metadata": {},
   "outputs": [
    {
     "data": {
      "image/png": "[encoded data removed]",
      "text/plain": [
       "<Figure size 720x576 with 1 Axes>"
      ]
     },
     "metadata": {
      "needs_background": "light"
     },
     "output_type": "display_data"
    }
   ],
   "source": [
    "plt.figure(figsize=(10, 8))\n",
    "xx3 = range(len(X_test3))\n",
    "plt.scatter(xx3, y_test3, s=10, color=\"b\", label=\"Original\")\n",
    "plt.plot(xx3, ypred_enet3, lw=1, color=\"r\", label=\"Predicted\")\n",
    "plt.legend()\n",
    "plt.show()"
   ]
  },
  {
   "cell_type": "markdown",
   "metadata": {},
   "source": [
    "## 3.4. Conclusion"
   ]
  },
  {
   "cell_type": "code",
   "execution_count": 462,
   "metadata": {},
   "outputs": [
    {
     "name": "stdout",
     "output_type": "stream",
     "text": [
      "Ridge(MSE):393.137, Lasso(MSE):498.07, Elastic Net(MSE):511.99\n"
     ]
    }
   ],
   "source": [
    "print(\"Ridge(MSE):{0:.3f}, Lasso(MSE):{1:.2f}, Elastic Net(MSE):{2:.2f}\"\n",
    "      .format(mse_ridge3, mse_lasso3, mse_enet3))"
   ]
  },
  {
   "cell_type": "markdown",
   "metadata": {},
   "source": [
    "## Gradient Boosting?"
   ]
  },
  {
   "cell_type": "code",
   "execution_count": 164,
   "metadata": {
    "scrolled": true
   },
   "outputs": [
    {
     "data": {
      "text/plain": [
       "GradientBoostingRegressor(alpha=0.9, ccp_alpha=0.0, criterion='friedman_mse',\n",
       "                          init=None, learning_rate=1, loss='ls', max_depth=2,\n",
       "                          max_features=2, max_leaf_nodes=None,\n",
       "                          min_impurity_decrease=0.0, min_impurity_split=None,\n",
       "                          min_samples_leaf=1, min_samples_split=2,\n",
       "                          min_weight_fraction_leaf=0.0, n_estimators=20,\n",
       "                          n_iter_no_change=None, presort='deprecated',\n",
       "                          random_state=0, subsample=1.0, tol=0.0001,\n",
       "                          validation_fraction=0.1, verbose=0, warm_start=False)"
      ]
     },
     "execution_count": 164,
     "metadata": {},
     "output_type": "execute_result"
    }
   ],
   "source": [
    "lr_list = [0.05, 0.075, 0.1, 0.25, 0.5, 0.75, 1]\n",
    "\n",
    "for learning_rate in lr_list:\n",
    " gb_reg = GradientBoostingRegressor(n_estimators=20, \n",
    "                                     learning_rate=learning_rate, \n",
    "                                     max_features=2, \n",
    "                                     max_depth=2, random_state=0)\n",
    "gb_reg.fit(X_train, y_train)\n"
   ]
  },
  {
   "cell_type": "code",
   "execution_count": 165,
   "metadata": {},
   "outputs": [
    {
     "data": {
      "text/plain": [
       "<Figure size 720x576 with 0 Axes>"
      ]
     },
     "metadata": {},
     "output_type": "display_data"
    },
    {
     "data": {
      "image/png": "[encoded data removed]",
      "text/plain": [
       "<Figure size 864x432 with 1 Axes>"
      ]
     },
     "metadata": {
      "needs_background": "light"
     },
     "output_type": "display_data"
    }
   ],
   "source": [
    "from sklearn.inspection import permutation_importance \n",
    "\n",
    "# feature_importance\n",
    "\n",
    "plt.figure(figsize=(10, 8))\n",
    "feature_importance = gb_reg.feature_importances_\n",
    "sorted_idx = np.argsort(feature_importance)\n",
    "pos = np.arange(sorted_idx.shape[0]) + .5\n",
    "fig = plt.figure(figsize=(12, 6))\n",
    "plt.plot(1, 2, 1)\n",
    "plt.barh(pos, feature_importance[sorted_idx], align='center')\n",
    "plt.yticks(pos, X_train.columns[sorted_idx], rotation=45) #  we have too many variables...\n",
    "plt.title('Feature Importance (MDI)')\n",
    "plt.show()\n",
    "\n"
   ]
  },
  {
   "cell_type": "code",
   "execution_count": 166,
   "metadata": {},
   "outputs": [
    {
     "data": {
      "text/html": [
       "<div>\n",
       "<style scoped>\n",
       "    .dataframe tbody tr th:only-of-type {\n",
       "        vertical-align: middle;\n",
       "    }\n",
       "\n",
       "    .dataframe tbody tr th {\n",
       "        vertical-align: top;\n",
       "    }\n",
       "\n",
       "    .dataframe thead th {\n",
       "        text-align: right;\n",
       "    }\n",
       "</style>\n",
       "<table border=\"1\" class=\"dataframe\">\n",
       "  <thead>\n",
       "    <tr style=\"text-align: right;\">\n",
       "      <th></th>\n",
       "      <th>feature</th>\n",
       "      <th>importance_score</th>\n",
       "    </tr>\n",
       "  </thead>\n",
       "  <tbody>\n",
       "    <tr>\n",
       "      <th>11</th>\n",
       "      <td>SEASON_ID</td>\n",
       "      <td>0.1992</td>\n",
       "    </tr>\n",
       "    <tr>\n",
       "      <th>61</th>\n",
       "      <td>TEAM_ABBREVIATION_y_NOP</td>\n",
       "      <td>0.0905</td>\n",
       "    </tr>\n",
       "    <tr>\n",
       "      <th>10</th>\n",
       "      <td>pre_PTS</td>\n",
       "      <td>0.0784</td>\n",
       "    </tr>\n",
       "    <tr>\n",
       "      <th>41</th>\n",
       "      <td>TEAM_ABBREVIATION_x_UTA</td>\n",
       "      <td>0.0455</td>\n",
       "    </tr>\n",
       "    <tr>\n",
       "      <th>57</th>\n",
       "      <td>TEAM_ABBREVIATION_y_MEM</td>\n",
       "      <td>0.0441</td>\n",
       "    </tr>\n",
       "    <tr>\n",
       "      <th>12</th>\n",
       "      <td>MONTH</td>\n",
       "      <td>0.0374</td>\n",
       "    </tr>\n",
       "    <tr>\n",
       "      <th>53</th>\n",
       "      <td>TEAM_ABBREVIATION_y_HOU</td>\n",
       "      <td>0.0353</td>\n",
       "    </tr>\n",
       "    <tr>\n",
       "      <th>71</th>\n",
       "      <td>TEAM_ABBREVIATION_y_UTA</td>\n",
       "      <td>0.0352</td>\n",
       "    </tr>\n",
       "    <tr>\n",
       "      <th>8</th>\n",
       "      <td>distance_miles</td>\n",
       "      <td>0.0311</td>\n",
       "    </tr>\n",
       "    <tr>\n",
       "      <th>5</th>\n",
       "      <td>DAYS_BTWN_GAMES_y</td>\n",
       "      <td>0.0256</td>\n",
       "    </tr>\n",
       "  </tbody>\n",
       "</table>\n",
       "</div>"
      ],
      "text/plain": [
       "                    feature  importance_score\n",
       "11                SEASON_ID            0.1992\n",
       "61  TEAM_ABBREVIATION_y_NOP            0.0905\n",
       "10                  pre_PTS            0.0784\n",
       "41  TEAM_ABBREVIATION_x_UTA            0.0455\n",
       "57  TEAM_ABBREVIATION_y_MEM            0.0441\n",
       "12                    MONTH            0.0374\n",
       "53  TEAM_ABBREVIATION_y_HOU            0.0353\n",
       "71  TEAM_ABBREVIATION_y_UTA            0.0352\n",
       "8            distance_miles            0.0311\n",
       "5         DAYS_BTWN_GAMES_y            0.0256"
      ]
     },
     "execution_count": 166,
     "metadata": {},
     "output_type": "execute_result"
    }
   ],
   "source": [
    "names = []\n",
    "scores = []\n",
    "for name, score in zip(X_train.columns,gb_reg.feature_importances_):\n",
    "    names.append(name)\n",
    "    scores.append(np.round(score,4))\n",
    "    \n",
    "score_df = pd.DataFrame({'feature':names,'importance_score':scores})\n",
    "\n",
    "score_df.sort_values('importance_score',ascending=False).head(n = 10)"
   ]
  },
  {
   "cell_type": "code",
   "execution_count": 169,
   "metadata": {},
   "outputs": [
    {
     "data": {
      "image/png": "[encoded data removed]",
      "text/plain": [
       "<Figure size 648x360 with 1 Axes>"
      ]
     },
     "metadata": {
      "needs_background": "light"
     },
     "output_type": "display_data"
    }
   ],
   "source": [
    "plt.figure(figsize=(9, 5))\n",
    "xx3 = range(len(X_test))\n",
    "plt.title('Gradient Boosting Model')\n",
    "plt.scatter(xx3, y_test, s=10, color=\"royalblue\", label=\"Original\")\n",
    "plt.plot(xx3, gb_reg.predict(X_test), lw=1, color=\"crimson\", label=\"Predicted\")\n",
    "plt.legend()\n",
    "plt.show()"
   ]
  },
  {
   "cell_type": "code",
   "execution_count": 170,
   "metadata": {},
   "outputs": [
    {
     "name": "stdout",
     "output_type": "stream",
     "text": [
      "The mean squared error (MSE) on test set: 497.2412\n"
     ]
    }
   ],
   "source": [
    "mse = mean_squared_error(y_test, reg.predict(X_test))\n",
    "print(\"The mean squared error (MSE) on test set: {:.4f}\".format(mse))"
   ]
  },
  {
   "cell_type": "code",
   "execution_count": 172,
   "metadata": {
    "scrolled": false
   },
   "outputs": [
    {
     "name": "stdout",
     "output_type": "stream",
     "text": [
      "Learning rate:  1\n",
      "Accuracy score (training): 0.139\n",
      "Accuracy score (validation): -0.007\n"
     ]
    }
   ],
   "source": [
    "print(\"Learning rate: \", learning_rate)\n",
    "print(\"Accuracy score (training): {0:.3f}\".format(gb_reg.score(X_train, y_train)))\n",
    "print(\"Accuracy score (validation): {0:.3f}\".format(gb_reg.score(X_test, y_test)))"
   ]
  }
 ],
 "metadata": {
  "kernelspec": {
   "display_name": "Python 3",
   "language": "python",
   "name": "python3"
  },
  "language_info": {
   "codemirror_mode": {
    "name": "ipython",
    "version": 3
   },
   "file_extension": ".py",
   "mimetype": "text/x-python",
   "name": "python",
   "nbconvert_exporter": "python",
   "pygments_lexer": "ipython3",
   "version": "3.7.6"
  }
 },
 "nbformat": 4,
 "nbformat_minor": 4
}
